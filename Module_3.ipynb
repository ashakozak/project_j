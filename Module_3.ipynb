{
 "cells": [
  {
   "cell_type": "code",
   "execution_count": 1,
   "id": "74e10cc7",
   "metadata": {},
   "outputs": [],
   "source": [
    "import matplotlib.pyplot as plt\n",
    "import pandas as pd\n",
    "import numpy as np\n",
    "import requests\n",
    "from scipy import stats\n",
    "from config import weather_api_key\n",
    "\n"
   ]
  },
  {
   "cell_type": "code",
   "execution_count": 2,
   "id": "59d1d5c2",
   "metadata": {},
   "outputs": [],
   "source": [
    "\n",
    "ADE_path = \"Resources/ADE_DOM_INT.csv\"\n",
    "BRIS_path = \"Resources/BRIS_DOM_INT.csv\"\n",
    "CAI_path = \"Resources/CAI_DOM_INT.csv\"\n",
    "DAR_path = \"Resources/DAR_DOM_INT.csv\"\n",
    "GLD_path = \"Resources/GLD_DOM_INT.csv\"\n",
    "MELB_path = \"Resources/MELB_DOM_INT.csv\"\n",
    "PERTH_path = \"Resources/PERTH_DOM_INT.csv\"\n",
    "SYD_path = \"Resources/SYD_DOM_INT.csv\"\n",
    "dom_int_path= \"Resources/cleaned_mon_dom_int.csv\"\n",
    "\n",
    "ade = pd.read_csv(ADE_path)\n",
    "bris = pd.read_csv(BRIS_path)\n",
    "cai = pd.read_csv(CAI_path)\n",
    "dar = pd.read_csv(DAR_path)\n",
    "gld = pd.read_csv(GLD_path)\n",
    "melb = pd.read_csv(MELB_path)\n",
    "perth = pd.read_csv(PERTH_path)\n",
    "syd = pd.read_csv(SYD_path)\n",
    "dom_int = pd.read_csv(dom_int_path)"
   ]
  },
  {
   "cell_type": "code",
   "execution_count": 3,
   "id": "1ce0a12c",
   "metadata": {},
   "outputs": [
    {
     "data": {
      "text/html": [
       "<div>\n",
       "<style scoped>\n",
       "    .dataframe tbody tr th:only-of-type {\n",
       "        vertical-align: middle;\n",
       "    }\n",
       "\n",
       "    .dataframe tbody tr th {\n",
       "        vertical-align: top;\n",
       "    }\n",
       "\n",
       "    .dataframe thead th {\n",
       "        text-align: right;\n",
       "    }\n",
       "</style>\n",
       "<table border=\"1\" class=\"dataframe\">\n",
       "  <thead>\n",
       "    <tr style=\"text-align: right;\">\n",
       "      <th></th>\n",
       "      <th>AIRPORT</th>\n",
       "      <th>Year</th>\n",
       "      <th>Month</th>\n",
       "      <th>DOMESTIC_IN</th>\n",
       "      <th>DOMESTIC_OUT</th>\n",
       "      <th>DOMESTIC_TOTAL</th>\n",
       "      <th>INTERNATIONAL_IN</th>\n",
       "      <th>INTERNATIONAL_OUT</th>\n",
       "      <th>INTERNATIONAL_TOTAL</th>\n",
       "    </tr>\n",
       "  </thead>\n",
       "  <tbody>\n",
       "    <tr>\n",
       "      <th>0</th>\n",
       "      <td>ADELAIDE</td>\n",
       "      <td>2000</td>\n",
       "      <td>1</td>\n",
       "      <td>152690</td>\n",
       "      <td>151419</td>\n",
       "      <td>304109</td>\n",
       "      <td>12600</td>\n",
       "      <td>10158</td>\n",
       "      <td>22758</td>\n",
       "    </tr>\n",
       "    <tr>\n",
       "      <th>1</th>\n",
       "      <td>ADELAIDE</td>\n",
       "      <td>2000</td>\n",
       "      <td>2</td>\n",
       "      <td>148268</td>\n",
       "      <td>148009</td>\n",
       "      <td>296277</td>\n",
       "      <td>12498</td>\n",
       "      <td>8095</td>\n",
       "      <td>20593</td>\n",
       "    </tr>\n",
       "    <tr>\n",
       "      <th>2</th>\n",
       "      <td>ADELAIDE</td>\n",
       "      <td>2000</td>\n",
       "      <td>3</td>\n",
       "      <td>171672</td>\n",
       "      <td>175963</td>\n",
       "      <td>347635</td>\n",
       "      <td>10494</td>\n",
       "      <td>10812</td>\n",
       "      <td>21306</td>\n",
       "    </tr>\n",
       "    <tr>\n",
       "      <th>3</th>\n",
       "      <td>ADELAIDE</td>\n",
       "      <td>2000</td>\n",
       "      <td>4</td>\n",
       "      <td>168893</td>\n",
       "      <td>170467</td>\n",
       "      <td>339360</td>\n",
       "      <td>11000</td>\n",
       "      <td>12737</td>\n",
       "      <td>23737</td>\n",
       "    </tr>\n",
       "    <tr>\n",
       "      <th>4</th>\n",
       "      <td>ADELAIDE</td>\n",
       "      <td>2000</td>\n",
       "      <td>5</td>\n",
       "      <td>160803</td>\n",
       "      <td>164203</td>\n",
       "      <td>325006</td>\n",
       "      <td>7765</td>\n",
       "      <td>10890</td>\n",
       "      <td>18655</td>\n",
       "    </tr>\n",
       "  </tbody>\n",
       "</table>\n",
       "</div>"
      ],
      "text/plain": [
       "    AIRPORT  Year  Month  DOMESTIC_IN  DOMESTIC_OUT  DOMESTIC_TOTAL  \\\n",
       "0  ADELAIDE  2000      1       152690        151419          304109   \n",
       "1  ADELAIDE  2000      2       148268        148009          296277   \n",
       "2  ADELAIDE  2000      3       171672        175963          347635   \n",
       "3  ADELAIDE  2000      4       168893        170467          339360   \n",
       "4  ADELAIDE  2000      5       160803        164203          325006   \n",
       "\n",
       "   INTERNATIONAL_IN  INTERNATIONAL_OUT  INTERNATIONAL_TOTAL  \n",
       "0             12600              10158                22758  \n",
       "1             12498               8095                20593  \n",
       "2             10494              10812                21306  \n",
       "3             11000              12737                23737  \n",
       "4              7765              10890                18655  "
      ]
     },
     "execution_count": 3,
     "metadata": {},
     "output_type": "execute_result"
    }
   ],
   "source": [
    "ade.head()"
   ]
  },
  {
   "cell_type": "code",
   "execution_count": 4,
   "id": "ce0dc51c",
   "metadata": {},
   "outputs": [
    {
     "data": {
      "text/html": [
       "<div>\n",
       "<style scoped>\n",
       "    .dataframe tbody tr th:only-of-type {\n",
       "        vertical-align: middle;\n",
       "    }\n",
       "\n",
       "    .dataframe tbody tr th {\n",
       "        vertical-align: top;\n",
       "    }\n",
       "\n",
       "    .dataframe thead th {\n",
       "        text-align: right;\n",
       "    }\n",
       "</style>\n",
       "<table border=\"1\" class=\"dataframe\">\n",
       "  <thead>\n",
       "    <tr style=\"text-align: right;\">\n",
       "      <th></th>\n",
       "      <th>Year</th>\n",
       "      <th>Month</th>\n",
       "      <th>DOMESTIC_IN</th>\n",
       "    </tr>\n",
       "  </thead>\n",
       "  <tbody>\n",
       "    <tr>\n",
       "      <th>0</th>\n",
       "      <td>2000</td>\n",
       "      <td>1</td>\n",
       "      <td>152690</td>\n",
       "    </tr>\n",
       "    <tr>\n",
       "      <th>1</th>\n",
       "      <td>2000</td>\n",
       "      <td>2</td>\n",
       "      <td>148268</td>\n",
       "    </tr>\n",
       "    <tr>\n",
       "      <th>2</th>\n",
       "      <td>2000</td>\n",
       "      <td>3</td>\n",
       "      <td>171672</td>\n",
       "    </tr>\n",
       "    <tr>\n",
       "      <th>3</th>\n",
       "      <td>2000</td>\n",
       "      <td>4</td>\n",
       "      <td>168893</td>\n",
       "    </tr>\n",
       "    <tr>\n",
       "      <th>4</th>\n",
       "      <td>2000</td>\n",
       "      <td>5</td>\n",
       "      <td>160803</td>\n",
       "    </tr>\n",
       "  </tbody>\n",
       "</table>\n",
       "</div>"
      ],
      "text/plain": [
       "   Year  Month  DOMESTIC_IN\n",
       "0  2000      1       152690\n",
       "1  2000      2       148268\n",
       "2  2000      3       171672\n",
       "3  2000      4       168893\n",
       "4  2000      5       160803"
      ]
     },
     "execution_count": 4,
     "metadata": {},
     "output_type": "execute_result"
    }
   ],
   "source": [
    "ade_dom=ade.loc[:,['Year','Month','DOMESTIC_IN']]\n",
    "ade_dom.head()"
   ]
  },
  {
   "cell_type": "code",
   "execution_count": 5,
   "id": "184c2440",
   "metadata": {},
   "outputs": [
    {
     "data": {
      "text/html": [
       "<div>\n",
       "<style scoped>\n",
       "    .dataframe tbody tr th:only-of-type {\n",
       "        vertical-align: middle;\n",
       "    }\n",
       "\n",
       "    .dataframe tbody tr th {\n",
       "        vertical-align: top;\n",
       "    }\n",
       "\n",
       "    .dataframe thead th {\n",
       "        text-align: right;\n",
       "    }\n",
       "</style>\n",
       "<table border=\"1\" class=\"dataframe\">\n",
       "  <thead>\n",
       "    <tr style=\"text-align: right;\">\n",
       "      <th></th>\n",
       "      <th>Year</th>\n",
       "      <th>Month</th>\n",
       "      <th>DOMESTIC_IN</th>\n",
       "    </tr>\n",
       "  </thead>\n",
       "  <tbody>\n",
       "    <tr>\n",
       "      <th>0</th>\n",
       "      <td>2000</td>\n",
       "      <td>1</td>\n",
       "      <td>152690</td>\n",
       "    </tr>\n",
       "    <tr>\n",
       "      <th>1</th>\n",
       "      <td>2000</td>\n",
       "      <td>2</td>\n",
       "      <td>148268</td>\n",
       "    </tr>\n",
       "    <tr>\n",
       "      <th>2</th>\n",
       "      <td>2000</td>\n",
       "      <td>3</td>\n",
       "      <td>171672</td>\n",
       "    </tr>\n",
       "    <tr>\n",
       "      <th>3</th>\n",
       "      <td>2000</td>\n",
       "      <td>4</td>\n",
       "      <td>168893</td>\n",
       "    </tr>\n",
       "    <tr>\n",
       "      <th>4</th>\n",
       "      <td>2000</td>\n",
       "      <td>5</td>\n",
       "      <td>160803</td>\n",
       "    </tr>\n",
       "    <tr>\n",
       "      <th>...</th>\n",
       "      <td>...</td>\n",
       "      <td>...</td>\n",
       "      <td>...</td>\n",
       "    </tr>\n",
       "    <tr>\n",
       "      <th>264</th>\n",
       "      <td>2022</td>\n",
       "      <td>1</td>\n",
       "      <td>127555</td>\n",
       "    </tr>\n",
       "    <tr>\n",
       "      <th>265</th>\n",
       "      <td>2022</td>\n",
       "      <td>2</td>\n",
       "      <td>138158</td>\n",
       "    </tr>\n",
       "    <tr>\n",
       "      <th>266</th>\n",
       "      <td>2022</td>\n",
       "      <td>3</td>\n",
       "      <td>222888</td>\n",
       "    </tr>\n",
       "    <tr>\n",
       "      <th>267</th>\n",
       "      <td>2022</td>\n",
       "      <td>4</td>\n",
       "      <td>281960</td>\n",
       "    </tr>\n",
       "    <tr>\n",
       "      <th>268</th>\n",
       "      <td>2022</td>\n",
       "      <td>5</td>\n",
       "      <td>268778</td>\n",
       "    </tr>\n",
       "  </tbody>\n",
       "</table>\n",
       "<p>115 rows × 3 columns</p>\n",
       "</div>"
      ],
      "text/plain": [
       "     Year  Month  DOMESTIC_IN\n",
       "0    2000      1       152690\n",
       "1    2000      2       148268\n",
       "2    2000      3       171672\n",
       "3    2000      4       168893\n",
       "4    2000      5       160803\n",
       "..    ...    ...          ...\n",
       "264  2022      1       127555\n",
       "265  2022      2       138158\n",
       "266  2022      3       222888\n",
       "267  2022      4       281960\n",
       "268  2022      5       268778\n",
       "\n",
       "[115 rows x 3 columns]"
      ]
     },
     "execution_count": 5,
     "metadata": {},
     "output_type": "execute_result"
    }
   ],
   "source": [
    "ade_yr=ade_dom.groupby(['Year'])\n",
    "ade_yr.head()"
   ]
  },
  {
   "cell_type": "code",
   "execution_count": 6,
   "id": "699f2cf7",
   "metadata": {},
   "outputs": [
    {
     "data": {
      "text/plain": [
       "Year\n",
       "2000    1983734\n",
       "2001    2088198\n",
       "2002    1996080\n",
       "2003    2188997\n",
       "2004    2415418\n",
       "2005    2621067\n",
       "2006    2793335\n",
       "2007    2946819\n",
       "2008    3127058\n",
       "2009    3164872\n",
       "2010    3374644\n",
       "2011    3221062\n",
       "2012    3208500\n",
       "2013    3285242\n",
       "2014    3364494\n",
       "2015    3402848\n",
       "2016    3502850\n",
       "2017    3577907\n",
       "2018    3662255\n",
       "2019    3692959\n",
       "2020    1172754\n",
       "2021    1511842\n",
       "2022    1858879\n",
       "Name: DOMESTIC_IN, dtype: int64"
      ]
     },
     "execution_count": 6,
     "metadata": {},
     "output_type": "execute_result"
    }
   ],
   "source": [
    "ade_dom_tot=ade_yr['DOMESTIC_IN'].sum()\n",
    "ade_dom_tot"
   ]
  },
  {
   "cell_type": "code",
   "execution_count": 7,
   "id": "0c03ca46",
   "metadata": {},
   "outputs": [
    {
     "data": {
      "text/html": [
       "<div>\n",
       "<style scoped>\n",
       "    .dataframe tbody tr th:only-of-type {\n",
       "        vertical-align: middle;\n",
       "    }\n",
       "\n",
       "    .dataframe tbody tr th {\n",
       "        vertical-align: top;\n",
       "    }\n",
       "\n",
       "    .dataframe thead th {\n",
       "        text-align: right;\n",
       "    }\n",
       "</style>\n",
       "<table border=\"1\" class=\"dataframe\">\n",
       "  <thead>\n",
       "    <tr style=\"text-align: right;\">\n",
       "      <th></th>\n",
       "      <th>AIRPORT</th>\n",
       "      <th>Year</th>\n",
       "      <th>Month</th>\n",
       "      <th>DOMESTIC_IN</th>\n",
       "      <th>DOMESTIC_OUT</th>\n",
       "      <th>DOMESTIC_TOTAL</th>\n",
       "      <th>INTERNATIONAL_IN</th>\n",
       "      <th>INTERNATIONAL_OUT</th>\n",
       "      <th>INTERNATIONAL_TOTAL</th>\n",
       "    </tr>\n",
       "  </thead>\n",
       "  <tbody>\n",
       "    <tr>\n",
       "      <th>0</th>\n",
       "      <td>BRISBANE</td>\n",
       "      <td>2000</td>\n",
       "      <td>1</td>\n",
       "      <td>320011</td>\n",
       "      <td>322012</td>\n",
       "      <td>642023</td>\n",
       "      <td>107017</td>\n",
       "      <td>92287</td>\n",
       "      <td>199304</td>\n",
       "    </tr>\n",
       "    <tr>\n",
       "      <th>1</th>\n",
       "      <td>BRISBANE</td>\n",
       "      <td>2000</td>\n",
       "      <td>2</td>\n",
       "      <td>293369</td>\n",
       "      <td>293418</td>\n",
       "      <td>586787</td>\n",
       "      <td>99603</td>\n",
       "      <td>83005</td>\n",
       "      <td>182608</td>\n",
       "    </tr>\n",
       "    <tr>\n",
       "      <th>2</th>\n",
       "      <td>BRISBANE</td>\n",
       "      <td>2000</td>\n",
       "      <td>3</td>\n",
       "      <td>328007</td>\n",
       "      <td>326983</td>\n",
       "      <td>654990</td>\n",
       "      <td>100516</td>\n",
       "      <td>87502</td>\n",
       "      <td>188018</td>\n",
       "    </tr>\n",
       "    <tr>\n",
       "      <th>3</th>\n",
       "      <td>BRISBANE</td>\n",
       "      <td>2000</td>\n",
       "      <td>4</td>\n",
       "      <td>334736</td>\n",
       "      <td>339660</td>\n",
       "      <td>674396</td>\n",
       "      <td>110553</td>\n",
       "      <td>100105</td>\n",
       "      <td>210658</td>\n",
       "    </tr>\n",
       "    <tr>\n",
       "      <th>4</th>\n",
       "      <td>BRISBANE</td>\n",
       "      <td>2000</td>\n",
       "      <td>5</td>\n",
       "      <td>328586</td>\n",
       "      <td>329489</td>\n",
       "      <td>658075</td>\n",
       "      <td>96959</td>\n",
       "      <td>86004</td>\n",
       "      <td>182963</td>\n",
       "    </tr>\n",
       "  </tbody>\n",
       "</table>\n",
       "</div>"
      ],
      "text/plain": [
       "    AIRPORT  Year  Month  DOMESTIC_IN  DOMESTIC_OUT  DOMESTIC_TOTAL  \\\n",
       "0  BRISBANE  2000      1       320011        322012          642023   \n",
       "1  BRISBANE  2000      2       293369        293418          586787   \n",
       "2  BRISBANE  2000      3       328007        326983          654990   \n",
       "3  BRISBANE  2000      4       334736        339660          674396   \n",
       "4  BRISBANE  2000      5       328586        329489          658075   \n",
       "\n",
       "   INTERNATIONAL_IN  INTERNATIONAL_OUT  INTERNATIONAL_TOTAL  \n",
       "0            107017              92287               199304  \n",
       "1             99603              83005               182608  \n",
       "2            100516              87502               188018  \n",
       "3            110553             100105               210658  \n",
       "4             96959              86004               182963  "
      ]
     },
     "execution_count": 7,
     "metadata": {},
     "output_type": "execute_result"
    }
   ],
   "source": [
    "bris.head()"
   ]
  },
  {
   "cell_type": "code",
   "execution_count": 8,
   "id": "361d21ef",
   "metadata": {},
   "outputs": [
    {
     "data": {
      "text/html": [
       "<div>\n",
       "<style scoped>\n",
       "    .dataframe tbody tr th:only-of-type {\n",
       "        vertical-align: middle;\n",
       "    }\n",
       "\n",
       "    .dataframe tbody tr th {\n",
       "        vertical-align: top;\n",
       "    }\n",
       "\n",
       "    .dataframe thead th {\n",
       "        text-align: right;\n",
       "    }\n",
       "</style>\n",
       "<table border=\"1\" class=\"dataframe\">\n",
       "  <thead>\n",
       "    <tr style=\"text-align: right;\">\n",
       "      <th></th>\n",
       "      <th>Year</th>\n",
       "      <th>Month</th>\n",
       "      <th>DOMESTIC_IN</th>\n",
       "    </tr>\n",
       "  </thead>\n",
       "  <tbody>\n",
       "    <tr>\n",
       "      <th>0</th>\n",
       "      <td>2000</td>\n",
       "      <td>1</td>\n",
       "      <td>320011</td>\n",
       "    </tr>\n",
       "    <tr>\n",
       "      <th>1</th>\n",
       "      <td>2000</td>\n",
       "      <td>2</td>\n",
       "      <td>293369</td>\n",
       "    </tr>\n",
       "    <tr>\n",
       "      <th>2</th>\n",
       "      <td>2000</td>\n",
       "      <td>3</td>\n",
       "      <td>328007</td>\n",
       "    </tr>\n",
       "    <tr>\n",
       "      <th>3</th>\n",
       "      <td>2000</td>\n",
       "      <td>4</td>\n",
       "      <td>334736</td>\n",
       "    </tr>\n",
       "    <tr>\n",
       "      <th>4</th>\n",
       "      <td>2000</td>\n",
       "      <td>5</td>\n",
       "      <td>328586</td>\n",
       "    </tr>\n",
       "  </tbody>\n",
       "</table>\n",
       "</div>"
      ],
      "text/plain": [
       "   Year  Month  DOMESTIC_IN\n",
       "0  2000      1       320011\n",
       "1  2000      2       293369\n",
       "2  2000      3       328007\n",
       "3  2000      4       334736\n",
       "4  2000      5       328586"
      ]
     },
     "execution_count": 8,
     "metadata": {},
     "output_type": "execute_result"
    }
   ],
   "source": [
    "bris_dom=bris.loc[:,['Year','Month','DOMESTIC_IN']]\n",
    "bris_dom.head()"
   ]
  },
  {
   "cell_type": "code",
   "execution_count": 9,
   "id": "842fb73d",
   "metadata": {},
   "outputs": [
    {
     "data": {
      "text/html": [
       "<div>\n",
       "<style scoped>\n",
       "    .dataframe tbody tr th:only-of-type {\n",
       "        vertical-align: middle;\n",
       "    }\n",
       "\n",
       "    .dataframe tbody tr th {\n",
       "        vertical-align: top;\n",
       "    }\n",
       "\n",
       "    .dataframe thead th {\n",
       "        text-align: right;\n",
       "    }\n",
       "</style>\n",
       "<table border=\"1\" class=\"dataframe\">\n",
       "  <thead>\n",
       "    <tr style=\"text-align: right;\">\n",
       "      <th></th>\n",
       "      <th>Year</th>\n",
       "      <th>Month</th>\n",
       "      <th>DOMESTIC_IN</th>\n",
       "    </tr>\n",
       "  </thead>\n",
       "  <tbody>\n",
       "    <tr>\n",
       "      <th>0</th>\n",
       "      <td>2000</td>\n",
       "      <td>1</td>\n",
       "      <td>320011</td>\n",
       "    </tr>\n",
       "    <tr>\n",
       "      <th>1</th>\n",
       "      <td>2000</td>\n",
       "      <td>2</td>\n",
       "      <td>293369</td>\n",
       "    </tr>\n",
       "    <tr>\n",
       "      <th>2</th>\n",
       "      <td>2000</td>\n",
       "      <td>3</td>\n",
       "      <td>328007</td>\n",
       "    </tr>\n",
       "    <tr>\n",
       "      <th>3</th>\n",
       "      <td>2000</td>\n",
       "      <td>4</td>\n",
       "      <td>334736</td>\n",
       "    </tr>\n",
       "    <tr>\n",
       "      <th>4</th>\n",
       "      <td>2000</td>\n",
       "      <td>5</td>\n",
       "      <td>328586</td>\n",
       "    </tr>\n",
       "    <tr>\n",
       "      <th>...</th>\n",
       "      <td>...</td>\n",
       "      <td>...</td>\n",
       "      <td>...</td>\n",
       "    </tr>\n",
       "    <tr>\n",
       "      <th>264</th>\n",
       "      <td>2022</td>\n",
       "      <td>1</td>\n",
       "      <td>344849</td>\n",
       "    </tr>\n",
       "    <tr>\n",
       "      <th>265</th>\n",
       "      <td>2022</td>\n",
       "      <td>2</td>\n",
       "      <td>353768</td>\n",
       "    </tr>\n",
       "    <tr>\n",
       "      <th>266</th>\n",
       "      <td>2022</td>\n",
       "      <td>3</td>\n",
       "      <td>512295</td>\n",
       "    </tr>\n",
       "    <tr>\n",
       "      <th>267</th>\n",
       "      <td>2022</td>\n",
       "      <td>4</td>\n",
       "      <td>656158</td>\n",
       "    </tr>\n",
       "    <tr>\n",
       "      <th>268</th>\n",
       "      <td>2022</td>\n",
       "      <td>5</td>\n",
       "      <td>634184</td>\n",
       "    </tr>\n",
       "  </tbody>\n",
       "</table>\n",
       "<p>115 rows × 3 columns</p>\n",
       "</div>"
      ],
      "text/plain": [
       "     Year  Month  DOMESTIC_IN\n",
       "0    2000      1       320011\n",
       "1    2000      2       293369\n",
       "2    2000      3       328007\n",
       "3    2000      4       334736\n",
       "4    2000      5       328586\n",
       "..    ...    ...          ...\n",
       "264  2022      1       344849\n",
       "265  2022      2       353768\n",
       "266  2022      3       512295\n",
       "267  2022      4       656158\n",
       "268  2022      5       634184\n",
       "\n",
       "[115 rows x 3 columns]"
      ]
     },
     "execution_count": 9,
     "metadata": {},
     "output_type": "execute_result"
    }
   ],
   "source": [
    "bris_yr=bris_dom.groupby(['Year'])\n",
    "bris_yr.head()"
   ]
  },
  {
   "cell_type": "code",
   "execution_count": 10,
   "id": "345b8659",
   "metadata": {},
   "outputs": [
    {
     "data": {
      "text/plain": [
       "Year\n",
       "2000    4404201\n",
       "2001    4948055\n",
       "2002    4560733\n",
       "2003    5052824\n",
       "2004    5761856\n",
       "2005    6065613\n",
       "2006    6479840\n",
       "2007    6995112\n",
       "2008    7281876\n",
       "2009    7308926\n",
       "2010    7674673\n",
       "2011    7948914\n",
       "2012    8306085\n",
       "2013    8400795\n",
       "2014    8504232\n",
       "2015    8399287\n",
       "2016    8538676\n",
       "2017    8615737\n",
       "2018    8692044\n",
       "2019    8806368\n",
       "2020    3191435\n",
       "2021    3835031\n",
       "2022    4495901\n",
       "Name: DOMESTIC_IN, dtype: int64"
      ]
     },
     "execution_count": 10,
     "metadata": {},
     "output_type": "execute_result"
    }
   ],
   "source": [
    "bris_dom_tot=bris_yr['DOMESTIC_IN'].sum()\n",
    "bris_dom_tot"
   ]
  },
  {
   "cell_type": "code",
   "execution_count": 11,
   "id": "5bda6a9e",
   "metadata": {},
   "outputs": [
    {
     "data": {
      "text/html": [
       "<div>\n",
       "<style scoped>\n",
       "    .dataframe tbody tr th:only-of-type {\n",
       "        vertical-align: middle;\n",
       "    }\n",
       "\n",
       "    .dataframe tbody tr th {\n",
       "        vertical-align: top;\n",
       "    }\n",
       "\n",
       "    .dataframe thead th {\n",
       "        text-align: right;\n",
       "    }\n",
       "</style>\n",
       "<table border=\"1\" class=\"dataframe\">\n",
       "  <thead>\n",
       "    <tr style=\"text-align: right;\">\n",
       "      <th></th>\n",
       "      <th>AIRPORT</th>\n",
       "      <th>Year</th>\n",
       "      <th>Month</th>\n",
       "      <th>DOMESTIC_IN</th>\n",
       "      <th>DOMESTIC_OUT</th>\n",
       "      <th>DOMESTIC_TOTAL</th>\n",
       "      <th>INTERNATIONAL_IN</th>\n",
       "      <th>INTERNATIONAL_OUT</th>\n",
       "      <th>INTERNATIONAL_TOTAL</th>\n",
       "    </tr>\n",
       "  </thead>\n",
       "  <tbody>\n",
       "    <tr>\n",
       "      <th>0</th>\n",
       "      <td>CAIRNS</td>\n",
       "      <td>2000</td>\n",
       "      <td>1</td>\n",
       "      <td>74969</td>\n",
       "      <td>77009</td>\n",
       "      <td>151978</td>\n",
       "      <td>23591</td>\n",
       "      <td>24206</td>\n",
       "      <td>47797</td>\n",
       "    </tr>\n",
       "    <tr>\n",
       "      <th>1</th>\n",
       "      <td>CAIRNS</td>\n",
       "      <td>2000</td>\n",
       "      <td>2</td>\n",
       "      <td>68766</td>\n",
       "      <td>70218</td>\n",
       "      <td>138984</td>\n",
       "      <td>26080</td>\n",
       "      <td>23720</td>\n",
       "      <td>49800</td>\n",
       "    </tr>\n",
       "    <tr>\n",
       "      <th>2</th>\n",
       "      <td>CAIRNS</td>\n",
       "      <td>2000</td>\n",
       "      <td>3</td>\n",
       "      <td>77908</td>\n",
       "      <td>74469</td>\n",
       "      <td>152377</td>\n",
       "      <td>25976</td>\n",
       "      <td>28293</td>\n",
       "      <td>54269</td>\n",
       "    </tr>\n",
       "    <tr>\n",
       "      <th>3</th>\n",
       "      <td>CAIRNS</td>\n",
       "      <td>2000</td>\n",
       "      <td>4</td>\n",
       "      <td>83733</td>\n",
       "      <td>81871</td>\n",
       "      <td>165604</td>\n",
       "      <td>25685</td>\n",
       "      <td>25901</td>\n",
       "      <td>51586</td>\n",
       "    </tr>\n",
       "    <tr>\n",
       "      <th>4</th>\n",
       "      <td>CAIRNS</td>\n",
       "      <td>2000</td>\n",
       "      <td>5</td>\n",
       "      <td>81817</td>\n",
       "      <td>80717</td>\n",
       "      <td>162534</td>\n",
       "      <td>24323</td>\n",
       "      <td>27257</td>\n",
       "      <td>51580</td>\n",
       "    </tr>\n",
       "  </tbody>\n",
       "</table>\n",
       "</div>"
      ],
      "text/plain": [
       "  AIRPORT  Year  Month  DOMESTIC_IN  DOMESTIC_OUT  DOMESTIC_TOTAL  \\\n",
       "0  CAIRNS  2000      1        74969         77009          151978   \n",
       "1  CAIRNS  2000      2        68766         70218          138984   \n",
       "2  CAIRNS  2000      3        77908         74469          152377   \n",
       "3  CAIRNS  2000      4        83733         81871          165604   \n",
       "4  CAIRNS  2000      5        81817         80717          162534   \n",
       "\n",
       "   INTERNATIONAL_IN  INTERNATIONAL_OUT  INTERNATIONAL_TOTAL  \n",
       "0             23591              24206                47797  \n",
       "1             26080              23720                49800  \n",
       "2             25976              28293                54269  \n",
       "3             25685              25901                51586  \n",
       "4             24323              27257                51580  "
      ]
     },
     "execution_count": 11,
     "metadata": {},
     "output_type": "execute_result"
    }
   ],
   "source": [
    "cai.head()\n"
   ]
  },
  {
   "cell_type": "code",
   "execution_count": 12,
   "id": "a4027eee",
   "metadata": {},
   "outputs": [
    {
     "data": {
      "text/html": [
       "<div>\n",
       "<style scoped>\n",
       "    .dataframe tbody tr th:only-of-type {\n",
       "        vertical-align: middle;\n",
       "    }\n",
       "\n",
       "    .dataframe tbody tr th {\n",
       "        vertical-align: top;\n",
       "    }\n",
       "\n",
       "    .dataframe thead th {\n",
       "        text-align: right;\n",
       "    }\n",
       "</style>\n",
       "<table border=\"1\" class=\"dataframe\">\n",
       "  <thead>\n",
       "    <tr style=\"text-align: right;\">\n",
       "      <th></th>\n",
       "      <th>Year</th>\n",
       "      <th>Month</th>\n",
       "      <th>DOMESTIC_IN</th>\n",
       "    </tr>\n",
       "  </thead>\n",
       "  <tbody>\n",
       "    <tr>\n",
       "      <th>0</th>\n",
       "      <td>2000</td>\n",
       "      <td>1</td>\n",
       "      <td>74969</td>\n",
       "    </tr>\n",
       "    <tr>\n",
       "      <th>1</th>\n",
       "      <td>2000</td>\n",
       "      <td>2</td>\n",
       "      <td>68766</td>\n",
       "    </tr>\n",
       "    <tr>\n",
       "      <th>2</th>\n",
       "      <td>2000</td>\n",
       "      <td>3</td>\n",
       "      <td>77908</td>\n",
       "    </tr>\n",
       "    <tr>\n",
       "      <th>3</th>\n",
       "      <td>2000</td>\n",
       "      <td>4</td>\n",
       "      <td>83733</td>\n",
       "    </tr>\n",
       "    <tr>\n",
       "      <th>4</th>\n",
       "      <td>2000</td>\n",
       "      <td>5</td>\n",
       "      <td>81817</td>\n",
       "    </tr>\n",
       "  </tbody>\n",
       "</table>\n",
       "</div>"
      ],
      "text/plain": [
       "   Year  Month  DOMESTIC_IN\n",
       "0  2000      1        74969\n",
       "1  2000      2        68766\n",
       "2  2000      3        77908\n",
       "3  2000      4        83733\n",
       "4  2000      5        81817"
      ]
     },
     "execution_count": 12,
     "metadata": {},
     "output_type": "execute_result"
    }
   ],
   "source": [
    "cai_dom=cai.loc[:,['Year','Month','DOMESTIC_IN']]\n",
    "cai_dom.head()\n"
   ]
  },
  {
   "cell_type": "code",
   "execution_count": 13,
   "id": "032a9293",
   "metadata": {
    "scrolled": true
   },
   "outputs": [
    {
     "data": {
      "text/html": [
       "<div>\n",
       "<style scoped>\n",
       "    .dataframe tbody tr th:only-of-type {\n",
       "        vertical-align: middle;\n",
       "    }\n",
       "\n",
       "    .dataframe tbody tr th {\n",
       "        vertical-align: top;\n",
       "    }\n",
       "\n",
       "    .dataframe thead th {\n",
       "        text-align: right;\n",
       "    }\n",
       "</style>\n",
       "<table border=\"1\" class=\"dataframe\">\n",
       "  <thead>\n",
       "    <tr style=\"text-align: right;\">\n",
       "      <th></th>\n",
       "      <th>Year</th>\n",
       "      <th>Month</th>\n",
       "      <th>DOMESTIC_IN</th>\n",
       "    </tr>\n",
       "  </thead>\n",
       "  <tbody>\n",
       "    <tr>\n",
       "      <th>0</th>\n",
       "      <td>2000</td>\n",
       "      <td>1</td>\n",
       "      <td>74969</td>\n",
       "    </tr>\n",
       "    <tr>\n",
       "      <th>1</th>\n",
       "      <td>2000</td>\n",
       "      <td>2</td>\n",
       "      <td>68766</td>\n",
       "    </tr>\n",
       "    <tr>\n",
       "      <th>2</th>\n",
       "      <td>2000</td>\n",
       "      <td>3</td>\n",
       "      <td>77908</td>\n",
       "    </tr>\n",
       "    <tr>\n",
       "      <th>3</th>\n",
       "      <td>2000</td>\n",
       "      <td>4</td>\n",
       "      <td>83733</td>\n",
       "    </tr>\n",
       "    <tr>\n",
       "      <th>4</th>\n",
       "      <td>2000</td>\n",
       "      <td>5</td>\n",
       "      <td>81817</td>\n",
       "    </tr>\n",
       "    <tr>\n",
       "      <th>...</th>\n",
       "      <td>...</td>\n",
       "      <td>...</td>\n",
       "      <td>...</td>\n",
       "    </tr>\n",
       "    <tr>\n",
       "      <th>264</th>\n",
       "      <td>2022</td>\n",
       "      <td>1</td>\n",
       "      <td>101593</td>\n",
       "    </tr>\n",
       "    <tr>\n",
       "      <th>265</th>\n",
       "      <td>2022</td>\n",
       "      <td>2</td>\n",
       "      <td>74950</td>\n",
       "    </tr>\n",
       "    <tr>\n",
       "      <th>266</th>\n",
       "      <td>2022</td>\n",
       "      <td>3</td>\n",
       "      <td>112705</td>\n",
       "    </tr>\n",
       "    <tr>\n",
       "      <th>267</th>\n",
       "      <td>2022</td>\n",
       "      <td>4</td>\n",
       "      <td>176984</td>\n",
       "    </tr>\n",
       "    <tr>\n",
       "      <th>268</th>\n",
       "      <td>2022</td>\n",
       "      <td>5</td>\n",
       "      <td>152773</td>\n",
       "    </tr>\n",
       "  </tbody>\n",
       "</table>\n",
       "<p>115 rows × 3 columns</p>\n",
       "</div>"
      ],
      "text/plain": [
       "     Year  Month  DOMESTIC_IN\n",
       "0    2000      1        74969\n",
       "1    2000      2        68766\n",
       "2    2000      3        77908\n",
       "3    2000      4        83733\n",
       "4    2000      5        81817\n",
       "..    ...    ...          ...\n",
       "264  2022      1       101593\n",
       "265  2022      2        74950\n",
       "266  2022      3       112705\n",
       "267  2022      4       176984\n",
       "268  2022      5       152773\n",
       "\n",
       "[115 rows x 3 columns]"
      ]
     },
     "execution_count": 13,
     "metadata": {},
     "output_type": "execute_result"
    }
   ],
   "source": [
    "cai_yr=cai_dom.groupby(['Year'])\n",
    "cai_yr.head()\n"
   ]
  },
  {
   "cell_type": "code",
   "execution_count": 14,
   "id": "2ba7977e",
   "metadata": {},
   "outputs": [
    {
     "data": {
      "text/plain": [
       "Year\n",
       "2000    1065600\n",
       "2001    1009453\n",
       "2002    1045601\n",
       "2003    1118928\n",
       "2004    1284025\n",
       "2005    1417727\n",
       "2006    1481810\n",
       "2007    1537142\n",
       "2008    1578539\n",
       "2009    1564910\n",
       "2010    1628261\n",
       "2011    1680637\n",
       "2012    1778671\n",
       "2013    1866127\n",
       "2014    1921580\n",
       "2015    1983585\n",
       "2016    2102385\n",
       "2017    2134527\n",
       "2018    2129089\n",
       "2019    2046740\n",
       "2020     784172\n",
       "2021    1157170\n",
       "2022    1162037\n",
       "Name: DOMESTIC_IN, dtype: int64"
      ]
     },
     "execution_count": 14,
     "metadata": {},
     "output_type": "execute_result"
    }
   ],
   "source": [
    "cai_dom_tot=cai_yr['DOMESTIC_IN'].sum()\n",
    "cai_dom_tot"
   ]
  },
  {
   "cell_type": "code",
   "execution_count": 15,
   "id": "c7a27b11",
   "metadata": {},
   "outputs": [
    {
     "data": {
      "text/html": [
       "<div>\n",
       "<style scoped>\n",
       "    .dataframe tbody tr th:only-of-type {\n",
       "        vertical-align: middle;\n",
       "    }\n",
       "\n",
       "    .dataframe tbody tr th {\n",
       "        vertical-align: top;\n",
       "    }\n",
       "\n",
       "    .dataframe thead th {\n",
       "        text-align: right;\n",
       "    }\n",
       "</style>\n",
       "<table border=\"1\" class=\"dataframe\">\n",
       "  <thead>\n",
       "    <tr style=\"text-align: right;\">\n",
       "      <th></th>\n",
       "      <th>AIRPORT</th>\n",
       "      <th>Year</th>\n",
       "      <th>Month</th>\n",
       "      <th>DOMESTIC_IN</th>\n",
       "      <th>DOMESTIC_OUT</th>\n",
       "      <th>DOMESTIC_TOTAL</th>\n",
       "      <th>INTERNATIONAL_IN</th>\n",
       "      <th>INTERNATIONAL_OUT</th>\n",
       "      <th>INTERNATIONAL_TOTAL</th>\n",
       "    </tr>\n",
       "  </thead>\n",
       "  <tbody>\n",
       "    <tr>\n",
       "      <th>0</th>\n",
       "      <td>DARWIN</td>\n",
       "      <td>2000</td>\n",
       "      <td>1</td>\n",
       "      <td>33972</td>\n",
       "      <td>29811</td>\n",
       "      <td>63783</td>\n",
       "      <td>6403</td>\n",
       "      <td>4728</td>\n",
       "      <td>11131</td>\n",
       "    </tr>\n",
       "    <tr>\n",
       "      <th>1</th>\n",
       "      <td>DARWIN</td>\n",
       "      <td>2000</td>\n",
       "      <td>2</td>\n",
       "      <td>27201</td>\n",
       "      <td>26831</td>\n",
       "      <td>54032</td>\n",
       "      <td>5025</td>\n",
       "      <td>4114</td>\n",
       "      <td>9139</td>\n",
       "    </tr>\n",
       "    <tr>\n",
       "      <th>2</th>\n",
       "      <td>DARWIN</td>\n",
       "      <td>2000</td>\n",
       "      <td>3</td>\n",
       "      <td>32183</td>\n",
       "      <td>31415</td>\n",
       "      <td>63598</td>\n",
       "      <td>4930</td>\n",
       "      <td>5206</td>\n",
       "      <td>10136</td>\n",
       "    </tr>\n",
       "    <tr>\n",
       "      <th>3</th>\n",
       "      <td>DARWIN</td>\n",
       "      <td>2000</td>\n",
       "      <td>4</td>\n",
       "      <td>35802</td>\n",
       "      <td>34770</td>\n",
       "      <td>70572</td>\n",
       "      <td>5888</td>\n",
       "      <td>6080</td>\n",
       "      <td>11968</td>\n",
       "    </tr>\n",
       "    <tr>\n",
       "      <th>4</th>\n",
       "      <td>DARWIN</td>\n",
       "      <td>2000</td>\n",
       "      <td>5</td>\n",
       "      <td>40676</td>\n",
       "      <td>37764</td>\n",
       "      <td>78440</td>\n",
       "      <td>5909</td>\n",
       "      <td>6255</td>\n",
       "      <td>12164</td>\n",
       "    </tr>\n",
       "  </tbody>\n",
       "</table>\n",
       "</div>"
      ],
      "text/plain": [
       "  AIRPORT  Year  Month  DOMESTIC_IN  DOMESTIC_OUT  DOMESTIC_TOTAL  \\\n",
       "0  DARWIN  2000      1        33972         29811           63783   \n",
       "1  DARWIN  2000      2        27201         26831           54032   \n",
       "2  DARWIN  2000      3        32183         31415           63598   \n",
       "3  DARWIN  2000      4        35802         34770           70572   \n",
       "4  DARWIN  2000      5        40676         37764           78440   \n",
       "\n",
       "   INTERNATIONAL_IN  INTERNATIONAL_OUT  INTERNATIONAL_TOTAL  \n",
       "0              6403               4728                11131  \n",
       "1              5025               4114                 9139  \n",
       "2              4930               5206                10136  \n",
       "3              5888               6080                11968  \n",
       "4              5909               6255                12164  "
      ]
     },
     "execution_count": 15,
     "metadata": {},
     "output_type": "execute_result"
    }
   ],
   "source": [
    "dar.head()\n"
   ]
  },
  {
   "cell_type": "code",
   "execution_count": 16,
   "id": "1458f3f5",
   "metadata": {},
   "outputs": [
    {
     "data": {
      "text/html": [
       "<div>\n",
       "<style scoped>\n",
       "    .dataframe tbody tr th:only-of-type {\n",
       "        vertical-align: middle;\n",
       "    }\n",
       "\n",
       "    .dataframe tbody tr th {\n",
       "        vertical-align: top;\n",
       "    }\n",
       "\n",
       "    .dataframe thead th {\n",
       "        text-align: right;\n",
       "    }\n",
       "</style>\n",
       "<table border=\"1\" class=\"dataframe\">\n",
       "  <thead>\n",
       "    <tr style=\"text-align: right;\">\n",
       "      <th></th>\n",
       "      <th>Year</th>\n",
       "      <th>Month</th>\n",
       "      <th>DOMESTIC_IN</th>\n",
       "    </tr>\n",
       "  </thead>\n",
       "  <tbody>\n",
       "    <tr>\n",
       "      <th>0</th>\n",
       "      <td>2000</td>\n",
       "      <td>1</td>\n",
       "      <td>33972</td>\n",
       "    </tr>\n",
       "    <tr>\n",
       "      <th>1</th>\n",
       "      <td>2000</td>\n",
       "      <td>2</td>\n",
       "      <td>27201</td>\n",
       "    </tr>\n",
       "    <tr>\n",
       "      <th>2</th>\n",
       "      <td>2000</td>\n",
       "      <td>3</td>\n",
       "      <td>32183</td>\n",
       "    </tr>\n",
       "    <tr>\n",
       "      <th>3</th>\n",
       "      <td>2000</td>\n",
       "      <td>4</td>\n",
       "      <td>35802</td>\n",
       "    </tr>\n",
       "    <tr>\n",
       "      <th>4</th>\n",
       "      <td>2000</td>\n",
       "      <td>5</td>\n",
       "      <td>40676</td>\n",
       "    </tr>\n",
       "  </tbody>\n",
       "</table>\n",
       "</div>"
      ],
      "text/plain": [
       "   Year  Month  DOMESTIC_IN\n",
       "0  2000      1        33972\n",
       "1  2000      2        27201\n",
       "2  2000      3        32183\n",
       "3  2000      4        35802\n",
       "4  2000      5        40676"
      ]
     },
     "execution_count": 16,
     "metadata": {},
     "output_type": "execute_result"
    }
   ],
   "source": [
    "dar_dom=dar.loc[:,['Year','Month','DOMESTIC_IN']]\n",
    "dar_dom.head()\n"
   ]
  },
  {
   "cell_type": "code",
   "execution_count": 17,
   "id": "9ce34493",
   "metadata": {},
   "outputs": [
    {
     "data": {
      "text/plain": [
       "Year\n",
       "2000    450268\n",
       "2001    419534\n",
       "2002    444793\n",
       "2003    458526\n",
       "2004    526936\n",
       "2005    551842\n",
       "2006    586843\n",
       "2007    650440\n",
       "2008    703323\n",
       "2009    660295\n",
       "2010    707760\n",
       "2011    790772\n",
       "2012    816467\n",
       "2013    833542\n",
       "2014    892747\n",
       "2015    895968\n",
       "2016    911699\n",
       "2017    913871\n",
       "2018    882792\n",
       "2019    860297\n",
       "2020    327948\n",
       "2021    522247\n",
       "2022    506885\n",
       "Name: DOMESTIC_IN, dtype: int64"
      ]
     },
     "execution_count": 17,
     "metadata": {},
     "output_type": "execute_result"
    }
   ],
   "source": [
    "dar_yr=dar_dom.groupby(['Year'])\n",
    "dar_dom_tot=dar_yr['DOMESTIC_IN'].sum()\n",
    "dar_dom_tot"
   ]
  },
  {
   "cell_type": "code",
   "execution_count": 18,
   "id": "16785d45",
   "metadata": {},
   "outputs": [
    {
     "data": {
      "text/html": [
       "<div>\n",
       "<style scoped>\n",
       "    .dataframe tbody tr th:only-of-type {\n",
       "        vertical-align: middle;\n",
       "    }\n",
       "\n",
       "    .dataframe tbody tr th {\n",
       "        vertical-align: top;\n",
       "    }\n",
       "\n",
       "    .dataframe thead th {\n",
       "        text-align: right;\n",
       "    }\n",
       "</style>\n",
       "<table border=\"1\" class=\"dataframe\">\n",
       "  <thead>\n",
       "    <tr style=\"text-align: right;\">\n",
       "      <th></th>\n",
       "      <th>AIRPORT</th>\n",
       "      <th>Year</th>\n",
       "      <th>Month</th>\n",
       "      <th>DOMESTIC_IN</th>\n",
       "      <th>DOMESTIC_OUT</th>\n",
       "      <th>DOMESTIC_TOTAL</th>\n",
       "      <th>INTERNATIONAL_IN</th>\n",
       "      <th>INTERNATIONAL_OUT</th>\n",
       "      <th>INTERNATIONAL_TOTAL</th>\n",
       "    </tr>\n",
       "  </thead>\n",
       "  <tbody>\n",
       "    <tr>\n",
       "      <th>0</th>\n",
       "      <td>GOLD COAST</td>\n",
       "      <td>2000</td>\n",
       "      <td>1</td>\n",
       "      <td>96104</td>\n",
       "      <td>101751</td>\n",
       "      <td>197855</td>\n",
       "      <td>701</td>\n",
       "      <td>602</td>\n",
       "      <td>1303</td>\n",
       "    </tr>\n",
       "    <tr>\n",
       "      <th>1</th>\n",
       "      <td>GOLD COAST</td>\n",
       "      <td>2000</td>\n",
       "      <td>2</td>\n",
       "      <td>70442</td>\n",
       "      <td>77352</td>\n",
       "      <td>147794</td>\n",
       "      <td>641</td>\n",
       "      <td>565</td>\n",
       "      <td>1206</td>\n",
       "    </tr>\n",
       "    <tr>\n",
       "      <th>2</th>\n",
       "      <td>GOLD COAST</td>\n",
       "      <td>2000</td>\n",
       "      <td>3</td>\n",
       "      <td>77682</td>\n",
       "      <td>80019</td>\n",
       "      <td>157701</td>\n",
       "      <td>862</td>\n",
       "      <td>656</td>\n",
       "      <td>1518</td>\n",
       "    </tr>\n",
       "    <tr>\n",
       "      <th>3</th>\n",
       "      <td>GOLD COAST</td>\n",
       "      <td>2000</td>\n",
       "      <td>4</td>\n",
       "      <td>77186</td>\n",
       "      <td>82481</td>\n",
       "      <td>159667</td>\n",
       "      <td>1422</td>\n",
       "      <td>1287</td>\n",
       "      <td>2709</td>\n",
       "    </tr>\n",
       "    <tr>\n",
       "      <th>4</th>\n",
       "      <td>GOLD COAST</td>\n",
       "      <td>2000</td>\n",
       "      <td>5</td>\n",
       "      <td>67987</td>\n",
       "      <td>69974</td>\n",
       "      <td>137961</td>\n",
       "      <td>1040</td>\n",
       "      <td>812</td>\n",
       "      <td>1852</td>\n",
       "    </tr>\n",
       "  </tbody>\n",
       "</table>\n",
       "</div>"
      ],
      "text/plain": [
       "      AIRPORT  Year  Month  DOMESTIC_IN  DOMESTIC_OUT  DOMESTIC_TOTAL  \\\n",
       "0  GOLD COAST  2000      1        96104        101751          197855   \n",
       "1  GOLD COAST  2000      2        70442         77352          147794   \n",
       "2  GOLD COAST  2000      3        77682         80019          157701   \n",
       "3  GOLD COAST  2000      4        77186         82481          159667   \n",
       "4  GOLD COAST  2000      5        67987         69974          137961   \n",
       "\n",
       "   INTERNATIONAL_IN  INTERNATIONAL_OUT  INTERNATIONAL_TOTAL  \n",
       "0               701                602                 1303  \n",
       "1               641                565                 1206  \n",
       "2               862                656                 1518  \n",
       "3              1422               1287                 2709  \n",
       "4              1040                812                 1852  "
      ]
     },
     "execution_count": 18,
     "metadata": {},
     "output_type": "execute_result"
    }
   ],
   "source": [
    "gld.head()\n"
   ]
  },
  {
   "cell_type": "code",
   "execution_count": 19,
   "id": "660fdef3",
   "metadata": {},
   "outputs": [
    {
     "data": {
      "text/html": [
       "<div>\n",
       "<style scoped>\n",
       "    .dataframe tbody tr th:only-of-type {\n",
       "        vertical-align: middle;\n",
       "    }\n",
       "\n",
       "    .dataframe tbody tr th {\n",
       "        vertical-align: top;\n",
       "    }\n",
       "\n",
       "    .dataframe thead th {\n",
       "        text-align: right;\n",
       "    }\n",
       "</style>\n",
       "<table border=\"1\" class=\"dataframe\">\n",
       "  <thead>\n",
       "    <tr style=\"text-align: right;\">\n",
       "      <th></th>\n",
       "      <th>Year</th>\n",
       "      <th>Month</th>\n",
       "      <th>DOMESTIC_IN</th>\n",
       "    </tr>\n",
       "  </thead>\n",
       "  <tbody>\n",
       "    <tr>\n",
       "      <th>0</th>\n",
       "      <td>2000</td>\n",
       "      <td>1</td>\n",
       "      <td>96104</td>\n",
       "    </tr>\n",
       "    <tr>\n",
       "      <th>1</th>\n",
       "      <td>2000</td>\n",
       "      <td>2</td>\n",
       "      <td>70442</td>\n",
       "    </tr>\n",
       "    <tr>\n",
       "      <th>2</th>\n",
       "      <td>2000</td>\n",
       "      <td>3</td>\n",
       "      <td>77682</td>\n",
       "    </tr>\n",
       "    <tr>\n",
       "      <th>3</th>\n",
       "      <td>2000</td>\n",
       "      <td>4</td>\n",
       "      <td>77186</td>\n",
       "    </tr>\n",
       "    <tr>\n",
       "      <th>4</th>\n",
       "      <td>2000</td>\n",
       "      <td>5</td>\n",
       "      <td>67987</td>\n",
       "    </tr>\n",
       "  </tbody>\n",
       "</table>\n",
       "</div>"
      ],
      "text/plain": [
       "   Year  Month  DOMESTIC_IN\n",
       "0  2000      1        96104\n",
       "1  2000      2        70442\n",
       "2  2000      3        77682\n",
       "3  2000      4        77186\n",
       "4  2000      5        67987"
      ]
     },
     "execution_count": 19,
     "metadata": {},
     "output_type": "execute_result"
    }
   ],
   "source": [
    "gld_dom=gld.loc[:,['Year','Month','DOMESTIC_IN']]\n",
    "gld_dom.head()\n"
   ]
  },
  {
   "cell_type": "code",
   "execution_count": 20,
   "id": "07291959",
   "metadata": {},
   "outputs": [
    {
     "data": {
      "text/plain": [
       "Year\n",
       "2000     915759\n",
       "2001     884621\n",
       "2002     937304\n",
       "2003    1055312\n",
       "2004    1335033\n",
       "2005    1621003\n",
       "2006    1705153\n",
       "2007    1867501\n",
       "2008    2090725\n",
       "2009    2125869\n",
       "2010    2368125\n",
       "2011    2292296\n",
       "2012    2424806\n",
       "2013    2443017\n",
       "2014    2467494\n",
       "2015    2534979\n",
       "2016    2644966\n",
       "2017    2692636\n",
       "2018    2724535\n",
       "2019    2766244\n",
       "2020     751188\n",
       "2021    1021762\n",
       "2022    1711663\n",
       "Name: DOMESTIC_IN, dtype: int64"
      ]
     },
     "execution_count": 20,
     "metadata": {},
     "output_type": "execute_result"
    }
   ],
   "source": [
    "gld_yr=gld_dom.groupby(['Year'])\n",
    "gld_dom_tot=gld_yr['DOMESTIC_IN'].sum()\n",
    "gld_dom_tot"
   ]
  },
  {
   "cell_type": "code",
   "execution_count": 21,
   "id": "cae7a253",
   "metadata": {},
   "outputs": [
    {
     "data": {
      "text/html": [
       "<div>\n",
       "<style scoped>\n",
       "    .dataframe tbody tr th:only-of-type {\n",
       "        vertical-align: middle;\n",
       "    }\n",
       "\n",
       "    .dataframe tbody tr th {\n",
       "        vertical-align: top;\n",
       "    }\n",
       "\n",
       "    .dataframe thead th {\n",
       "        text-align: right;\n",
       "    }\n",
       "</style>\n",
       "<table border=\"1\" class=\"dataframe\">\n",
       "  <thead>\n",
       "    <tr style=\"text-align: right;\">\n",
       "      <th></th>\n",
       "      <th>AIRPORT</th>\n",
       "      <th>Year</th>\n",
       "      <th>Month</th>\n",
       "      <th>DOMESTIC_IN</th>\n",
       "      <th>DOMESTIC_OUT</th>\n",
       "      <th>DOMESTIC_TOTAL</th>\n",
       "      <th>INTERNATIONAL_IN</th>\n",
       "      <th>INTERNATIONAL_OUT</th>\n",
       "      <th>INTERNATIONAL_TOTAL</th>\n",
       "    </tr>\n",
       "  </thead>\n",
       "  <tbody>\n",
       "    <tr>\n",
       "      <th>0</th>\n",
       "      <td>MELBOURNE</td>\n",
       "      <td>2000</td>\n",
       "      <td>1</td>\n",
       "      <td>513364</td>\n",
       "      <td>486321</td>\n",
       "      <td>999685</td>\n",
       "      <td>138776</td>\n",
       "      <td>126770</td>\n",
       "      <td>265546</td>\n",
       "    </tr>\n",
       "    <tr>\n",
       "      <th>1</th>\n",
       "      <td>MELBOURNE</td>\n",
       "      <td>2000</td>\n",
       "      <td>2</td>\n",
       "      <td>491067</td>\n",
       "      <td>489398</td>\n",
       "      <td>980465</td>\n",
       "      <td>126905</td>\n",
       "      <td>106335</td>\n",
       "      <td>233240</td>\n",
       "    </tr>\n",
       "    <tr>\n",
       "      <th>2</th>\n",
       "      <td>MELBOURNE</td>\n",
       "      <td>2000</td>\n",
       "      <td>3</td>\n",
       "      <td>549175</td>\n",
       "      <td>553164</td>\n",
       "      <td>1102339</td>\n",
       "      <td>117411</td>\n",
       "      <td>127177</td>\n",
       "      <td>244588</td>\n",
       "    </tr>\n",
       "    <tr>\n",
       "      <th>3</th>\n",
       "      <td>MELBOURNE</td>\n",
       "      <td>2000</td>\n",
       "      <td>4</td>\n",
       "      <td>514001</td>\n",
       "      <td>513710</td>\n",
       "      <td>1027711</td>\n",
       "      <td>121332</td>\n",
       "      <td>131042</td>\n",
       "      <td>252374</td>\n",
       "    </tr>\n",
       "    <tr>\n",
       "      <th>4</th>\n",
       "      <td>MELBOURNE</td>\n",
       "      <td>2000</td>\n",
       "      <td>5</td>\n",
       "      <td>501060</td>\n",
       "      <td>504770</td>\n",
       "      <td>1005830</td>\n",
       "      <td>98769</td>\n",
       "      <td>119675</td>\n",
       "      <td>218444</td>\n",
       "    </tr>\n",
       "  </tbody>\n",
       "</table>\n",
       "</div>"
      ],
      "text/plain": [
       "     AIRPORT  Year  Month  DOMESTIC_IN  DOMESTIC_OUT  DOMESTIC_TOTAL  \\\n",
       "0  MELBOURNE  2000      1       513364        486321          999685   \n",
       "1  MELBOURNE  2000      2       491067        489398          980465   \n",
       "2  MELBOURNE  2000      3       549175        553164         1102339   \n",
       "3  MELBOURNE  2000      4       514001        513710         1027711   \n",
       "4  MELBOURNE  2000      5       501060        504770         1005830   \n",
       "\n",
       "   INTERNATIONAL_IN  INTERNATIONAL_OUT  INTERNATIONAL_TOTAL  \n",
       "0            138776             126770               265546  \n",
       "1            126905             106335               233240  \n",
       "2            117411             127177               244588  \n",
       "3            121332             131042               252374  \n",
       "4             98769             119675               218444  "
      ]
     },
     "execution_count": 21,
     "metadata": {},
     "output_type": "execute_result"
    }
   ],
   "source": [
    "melb.head()\n"
   ]
  },
  {
   "cell_type": "code",
   "execution_count": 22,
   "id": "839af415",
   "metadata": {},
   "outputs": [
    {
     "data": {
      "text/html": [
       "<div>\n",
       "<style scoped>\n",
       "    .dataframe tbody tr th:only-of-type {\n",
       "        vertical-align: middle;\n",
       "    }\n",
       "\n",
       "    .dataframe tbody tr th {\n",
       "        vertical-align: top;\n",
       "    }\n",
       "\n",
       "    .dataframe thead th {\n",
       "        text-align: right;\n",
       "    }\n",
       "</style>\n",
       "<table border=\"1\" class=\"dataframe\">\n",
       "  <thead>\n",
       "    <tr style=\"text-align: right;\">\n",
       "      <th></th>\n",
       "      <th>Year</th>\n",
       "      <th>Month</th>\n",
       "      <th>DOMESTIC_IN</th>\n",
       "    </tr>\n",
       "  </thead>\n",
       "  <tbody>\n",
       "    <tr>\n",
       "      <th>0</th>\n",
       "      <td>2000</td>\n",
       "      <td>1</td>\n",
       "      <td>513364</td>\n",
       "    </tr>\n",
       "    <tr>\n",
       "      <th>1</th>\n",
       "      <td>2000</td>\n",
       "      <td>2</td>\n",
       "      <td>491067</td>\n",
       "    </tr>\n",
       "    <tr>\n",
       "      <th>2</th>\n",
       "      <td>2000</td>\n",
       "      <td>3</td>\n",
       "      <td>549175</td>\n",
       "    </tr>\n",
       "    <tr>\n",
       "      <th>3</th>\n",
       "      <td>2000</td>\n",
       "      <td>4</td>\n",
       "      <td>514001</td>\n",
       "    </tr>\n",
       "    <tr>\n",
       "      <th>4</th>\n",
       "      <td>2000</td>\n",
       "      <td>5</td>\n",
       "      <td>501060</td>\n",
       "    </tr>\n",
       "  </tbody>\n",
       "</table>\n",
       "</div>"
      ],
      "text/plain": [
       "   Year  Month  DOMESTIC_IN\n",
       "0  2000      1       513364\n",
       "1  2000      2       491067\n",
       "2  2000      3       549175\n",
       "3  2000      4       514001\n",
       "4  2000      5       501060"
      ]
     },
     "execution_count": 22,
     "metadata": {},
     "output_type": "execute_result"
    }
   ],
   "source": [
    "melb_dom=melb.loc[:,['Year','Month','DOMESTIC_IN']]\n",
    "melb_dom.head()\n"
   ]
  },
  {
   "cell_type": "code",
   "execution_count": 23,
   "id": "a3f7093b",
   "metadata": {
    "scrolled": true
   },
   "outputs": [
    {
     "data": {
      "text/plain": [
       "Year\n",
       "2000     6476040\n",
       "2001     6643986\n",
       "2002     6450069\n",
       "2003     7014218\n",
       "2004     7904151\n",
       "2005     8225693\n",
       "2006     8638580\n",
       "2007     9089994\n",
       "2008     9930819\n",
       "2009     9883405\n",
       "2010    10765659\n",
       "2011    10615858\n",
       "2012    11063471\n",
       "2013    11480993\n",
       "2014    11701325\n",
       "2015    11989261\n",
       "2016    12396220\n",
       "2017    12636284\n",
       "2018    12854246\n",
       "2019    12918042\n",
       "2020     3218946\n",
       "2021     3391200\n",
       "2022     6379808\n",
       "Name: DOMESTIC_IN, dtype: int64"
      ]
     },
     "execution_count": 23,
     "metadata": {},
     "output_type": "execute_result"
    }
   ],
   "source": [
    "melb_yr=melb_dom.groupby(['Year'])\n",
    "melb_dom_tot=melb_yr['DOMESTIC_IN'].sum()\n",
    "melb_dom_tot"
   ]
  },
  {
   "cell_type": "code",
   "execution_count": 24,
   "id": "ddb52f11",
   "metadata": {},
   "outputs": [],
   "source": [
    "melb_max=melb_dom_tot.max()"
   ]
  },
  {
   "cell_type": "code",
   "execution_count": 25,
   "id": "66a50245",
   "metadata": {},
   "outputs": [
    {
     "data": {
      "text/html": [
       "<div>\n",
       "<style scoped>\n",
       "    .dataframe tbody tr th:only-of-type {\n",
       "        vertical-align: middle;\n",
       "    }\n",
       "\n",
       "    .dataframe tbody tr th {\n",
       "        vertical-align: top;\n",
       "    }\n",
       "\n",
       "    .dataframe thead th {\n",
       "        text-align: right;\n",
       "    }\n",
       "</style>\n",
       "<table border=\"1\" class=\"dataframe\">\n",
       "  <thead>\n",
       "    <tr style=\"text-align: right;\">\n",
       "      <th></th>\n",
       "      <th>AIRPORT</th>\n",
       "      <th>Year</th>\n",
       "      <th>Month</th>\n",
       "      <th>DOMESTIC_IN</th>\n",
       "      <th>DOMESTIC_OUT</th>\n",
       "      <th>DOMESTIC_TOTAL</th>\n",
       "      <th>INTERNATIONAL_IN</th>\n",
       "      <th>INTERNATIONAL_OUT</th>\n",
       "      <th>INTERNATIONAL_TOTAL</th>\n",
       "    </tr>\n",
       "  </thead>\n",
       "  <tbody>\n",
       "    <tr>\n",
       "      <th>0</th>\n",
       "      <td>PERTH</td>\n",
       "      <td>2000</td>\n",
       "      <td>1</td>\n",
       "      <td>148560</td>\n",
       "      <td>147709</td>\n",
       "      <td>296269</td>\n",
       "      <td>72336</td>\n",
       "      <td>64484</td>\n",
       "      <td>136820</td>\n",
       "    </tr>\n",
       "    <tr>\n",
       "      <th>1</th>\n",
       "      <td>PERTH</td>\n",
       "      <td>2000</td>\n",
       "      <td>2</td>\n",
       "      <td>121176</td>\n",
       "      <td>123532</td>\n",
       "      <td>244708</td>\n",
       "      <td>66068</td>\n",
       "      <td>52829</td>\n",
       "      <td>118897</td>\n",
       "    </tr>\n",
       "    <tr>\n",
       "      <th>2</th>\n",
       "      <td>PERTH</td>\n",
       "      <td>2000</td>\n",
       "      <td>3</td>\n",
       "      <td>144410</td>\n",
       "      <td>141810</td>\n",
       "      <td>286220</td>\n",
       "      <td>62341</td>\n",
       "      <td>66451</td>\n",
       "      <td>128792</td>\n",
       "    </tr>\n",
       "    <tr>\n",
       "      <th>3</th>\n",
       "      <td>PERTH</td>\n",
       "      <td>2000</td>\n",
       "      <td>4</td>\n",
       "      <td>148269</td>\n",
       "      <td>147877</td>\n",
       "      <td>296146</td>\n",
       "      <td>66159</td>\n",
       "      <td>66943</td>\n",
       "      <td>133102</td>\n",
       "    </tr>\n",
       "    <tr>\n",
       "      <th>4</th>\n",
       "      <td>PERTH</td>\n",
       "      <td>2000</td>\n",
       "      <td>5</td>\n",
       "      <td>136087</td>\n",
       "      <td>139535</td>\n",
       "      <td>275622</td>\n",
       "      <td>50973</td>\n",
       "      <td>59270</td>\n",
       "      <td>110243</td>\n",
       "    </tr>\n",
       "  </tbody>\n",
       "</table>\n",
       "</div>"
      ],
      "text/plain": [
       "  AIRPORT  Year  Month  DOMESTIC_IN  DOMESTIC_OUT  DOMESTIC_TOTAL  \\\n",
       "0   PERTH  2000      1       148560        147709          296269   \n",
       "1   PERTH  2000      2       121176        123532          244708   \n",
       "2   PERTH  2000      3       144410        141810          286220   \n",
       "3   PERTH  2000      4       148269        147877          296146   \n",
       "4   PERTH  2000      5       136087        139535          275622   \n",
       "\n",
       "   INTERNATIONAL_IN  INTERNATIONAL_OUT  INTERNATIONAL_TOTAL  \n",
       "0             72336              64484               136820  \n",
       "1             66068              52829               118897  \n",
       "2             62341              66451               128792  \n",
       "3             66159              66943               133102  \n",
       "4             50973              59270               110243  "
      ]
     },
     "execution_count": 25,
     "metadata": {},
     "output_type": "execute_result"
    }
   ],
   "source": [
    "perth.head()\n"
   ]
  },
  {
   "cell_type": "code",
   "execution_count": 26,
   "id": "a795577a",
   "metadata": {},
   "outputs": [
    {
     "data": {
      "text/html": [
       "<div>\n",
       "<style scoped>\n",
       "    .dataframe tbody tr th:only-of-type {\n",
       "        vertical-align: middle;\n",
       "    }\n",
       "\n",
       "    .dataframe tbody tr th {\n",
       "        vertical-align: top;\n",
       "    }\n",
       "\n",
       "    .dataframe thead th {\n",
       "        text-align: right;\n",
       "    }\n",
       "</style>\n",
       "<table border=\"1\" class=\"dataframe\">\n",
       "  <thead>\n",
       "    <tr style=\"text-align: right;\">\n",
       "      <th></th>\n",
       "      <th>Year</th>\n",
       "      <th>Month</th>\n",
       "      <th>DOMESTIC_IN</th>\n",
       "    </tr>\n",
       "  </thead>\n",
       "  <tbody>\n",
       "    <tr>\n",
       "      <th>0</th>\n",
       "      <td>2000</td>\n",
       "      <td>1</td>\n",
       "      <td>148560</td>\n",
       "    </tr>\n",
       "    <tr>\n",
       "      <th>1</th>\n",
       "      <td>2000</td>\n",
       "      <td>2</td>\n",
       "      <td>121176</td>\n",
       "    </tr>\n",
       "    <tr>\n",
       "      <th>2</th>\n",
       "      <td>2000</td>\n",
       "      <td>3</td>\n",
       "      <td>144410</td>\n",
       "    </tr>\n",
       "    <tr>\n",
       "      <th>3</th>\n",
       "      <td>2000</td>\n",
       "      <td>4</td>\n",
       "      <td>148269</td>\n",
       "    </tr>\n",
       "    <tr>\n",
       "      <th>4</th>\n",
       "      <td>2000</td>\n",
       "      <td>5</td>\n",
       "      <td>136087</td>\n",
       "    </tr>\n",
       "  </tbody>\n",
       "</table>\n",
       "</div>"
      ],
      "text/plain": [
       "   Year  Month  DOMESTIC_IN\n",
       "0  2000      1       148560\n",
       "1  2000      2       121176\n",
       "2  2000      3       144410\n",
       "3  2000      4       148269\n",
       "4  2000      5       136087"
      ]
     },
     "execution_count": 26,
     "metadata": {},
     "output_type": "execute_result"
    }
   ],
   "source": [
    "perth_dom=perth.loc[:,['Year','Month','DOMESTIC_IN']]\n",
    "perth_dom.head()\n"
   ]
  },
  {
   "cell_type": "code",
   "execution_count": 27,
   "id": "858b47b9",
   "metadata": {},
   "outputs": [
    {
     "data": {
      "text/plain": [
       "Year\n",
       "2000    1728932\n",
       "2001    1662012\n",
       "2002    1668292\n",
       "2003    1934347\n",
       "2004    2216159\n",
       "2005    2375422\n",
       "2006    2705021\n",
       "2007    3040097\n",
       "2008    3346848\n",
       "2009    3415365\n",
       "2010    3666157\n",
       "2011    4012703\n",
       "2012    4500495\n",
       "2013    4487326\n",
       "2014    4367566\n",
       "2015    4200070\n",
       "2016    4048286\n",
       "2017    3980708\n",
       "2018    4057776\n",
       "2019    4081844\n",
       "2020    1479338\n",
       "2021    1938370\n",
       "2022    1934258\n",
       "Name: DOMESTIC_IN, dtype: int64"
      ]
     },
     "execution_count": 27,
     "metadata": {},
     "output_type": "execute_result"
    }
   ],
   "source": [
    "perth_yr=perth_dom.groupby(['Year'])\n",
    "perth_dom_tot=perth_yr['DOMESTIC_IN'].sum()\n",
    "perth_dom_tot"
   ]
  },
  {
   "cell_type": "code",
   "execution_count": 28,
   "id": "13d64906",
   "metadata": {},
   "outputs": [
    {
     "data": {
      "text/html": [
       "<div>\n",
       "<style scoped>\n",
       "    .dataframe tbody tr th:only-of-type {\n",
       "        vertical-align: middle;\n",
       "    }\n",
       "\n",
       "    .dataframe tbody tr th {\n",
       "        vertical-align: top;\n",
       "    }\n",
       "\n",
       "    .dataframe thead th {\n",
       "        text-align: right;\n",
       "    }\n",
       "</style>\n",
       "<table border=\"1\" class=\"dataframe\">\n",
       "  <thead>\n",
       "    <tr style=\"text-align: right;\">\n",
       "      <th></th>\n",
       "      <th>AIRPORT</th>\n",
       "      <th>Year</th>\n",
       "      <th>Month</th>\n",
       "      <th>DOMESTIC_IN</th>\n",
       "      <th>DOMESTIC_OUT</th>\n",
       "      <th>DOMESTIC_TOTAL</th>\n",
       "      <th>INTERNATIONAL_IN</th>\n",
       "      <th>INTERNATIONAL_OUT</th>\n",
       "      <th>INTERNATIONAL_TOTAL</th>\n",
       "    </tr>\n",
       "  </thead>\n",
       "  <tbody>\n",
       "    <tr>\n",
       "      <th>0</th>\n",
       "      <td>SYDNEY</td>\n",
       "      <td>2000</td>\n",
       "      <td>1</td>\n",
       "      <td>600155</td>\n",
       "      <td>618569</td>\n",
       "      <td>1218724</td>\n",
       "      <td>357512</td>\n",
       "      <td>362109</td>\n",
       "      <td>719621</td>\n",
       "    </tr>\n",
       "    <tr>\n",
       "      <th>1</th>\n",
       "      <td>SYDNEY</td>\n",
       "      <td>2000</td>\n",
       "      <td>2</td>\n",
       "      <td>605977</td>\n",
       "      <td>599847</td>\n",
       "      <td>1205824</td>\n",
       "      <td>328992</td>\n",
       "      <td>311707</td>\n",
       "      <td>640699</td>\n",
       "    </tr>\n",
       "    <tr>\n",
       "      <th>2</th>\n",
       "      <td>SYDNEY</td>\n",
       "      <td>2000</td>\n",
       "      <td>3</td>\n",
       "      <td>673539</td>\n",
       "      <td>662304</td>\n",
       "      <td>1335843</td>\n",
       "      <td>303770</td>\n",
       "      <td>337919</td>\n",
       "      <td>641689</td>\n",
       "    </tr>\n",
       "    <tr>\n",
       "      <th>3</th>\n",
       "      <td>SYDNEY</td>\n",
       "      <td>2000</td>\n",
       "      <td>4</td>\n",
       "      <td>643153</td>\n",
       "      <td>629291</td>\n",
       "      <td>1272444</td>\n",
       "      <td>327665</td>\n",
       "      <td>360247</td>\n",
       "      <td>687912</td>\n",
       "    </tr>\n",
       "    <tr>\n",
       "      <th>4</th>\n",
       "      <td>SYDNEY</td>\n",
       "      <td>2000</td>\n",
       "      <td>5</td>\n",
       "      <td>635685</td>\n",
       "      <td>621028</td>\n",
       "      <td>1256713</td>\n",
       "      <td>273093</td>\n",
       "      <td>319168</td>\n",
       "      <td>592261</td>\n",
       "    </tr>\n",
       "  </tbody>\n",
       "</table>\n",
       "</div>"
      ],
      "text/plain": [
       "  AIRPORT  Year  Month  DOMESTIC_IN  DOMESTIC_OUT  DOMESTIC_TOTAL  \\\n",
       "0  SYDNEY  2000      1       600155        618569         1218724   \n",
       "1  SYDNEY  2000      2       605977        599847         1205824   \n",
       "2  SYDNEY  2000      3       673539        662304         1335843   \n",
       "3  SYDNEY  2000      4       643153        629291         1272444   \n",
       "4  SYDNEY  2000      5       635685        621028         1256713   \n",
       "\n",
       "   INTERNATIONAL_IN  INTERNATIONAL_OUT  INTERNATIONAL_TOTAL  \n",
       "0            357512             362109               719621  \n",
       "1            328992             311707               640699  \n",
       "2            303770             337919               641689  \n",
       "3            327665             360247               687912  \n",
       "4            273093             319168               592261  "
      ]
     },
     "execution_count": 28,
     "metadata": {},
     "output_type": "execute_result"
    }
   ],
   "source": [
    "syd.head()\n"
   ]
  },
  {
   "cell_type": "code",
   "execution_count": 29,
   "id": "f74fd68c",
   "metadata": {},
   "outputs": [
    {
     "data": {
      "text/html": [
       "<div>\n",
       "<style scoped>\n",
       "    .dataframe tbody tr th:only-of-type {\n",
       "        vertical-align: middle;\n",
       "    }\n",
       "\n",
       "    .dataframe tbody tr th {\n",
       "        vertical-align: top;\n",
       "    }\n",
       "\n",
       "    .dataframe thead th {\n",
       "        text-align: right;\n",
       "    }\n",
       "</style>\n",
       "<table border=\"1\" class=\"dataframe\">\n",
       "  <thead>\n",
       "    <tr style=\"text-align: right;\">\n",
       "      <th></th>\n",
       "      <th>Year</th>\n",
       "      <th>Month</th>\n",
       "      <th>DOMESTIC_IN</th>\n",
       "    </tr>\n",
       "  </thead>\n",
       "  <tbody>\n",
       "    <tr>\n",
       "      <th>0</th>\n",
       "      <td>2000</td>\n",
       "      <td>1</td>\n",
       "      <td>600155</td>\n",
       "    </tr>\n",
       "    <tr>\n",
       "      <th>1</th>\n",
       "      <td>2000</td>\n",
       "      <td>2</td>\n",
       "      <td>605977</td>\n",
       "    </tr>\n",
       "    <tr>\n",
       "      <th>2</th>\n",
       "      <td>2000</td>\n",
       "      <td>3</td>\n",
       "      <td>673539</td>\n",
       "    </tr>\n",
       "    <tr>\n",
       "      <th>3</th>\n",
       "      <td>2000</td>\n",
       "      <td>4</td>\n",
       "      <td>643153</td>\n",
       "    </tr>\n",
       "    <tr>\n",
       "      <th>4</th>\n",
       "      <td>2000</td>\n",
       "      <td>5</td>\n",
       "      <td>635685</td>\n",
       "    </tr>\n",
       "  </tbody>\n",
       "</table>\n",
       "</div>"
      ],
      "text/plain": [
       "   Year  Month  DOMESTIC_IN\n",
       "0  2000      1       600155\n",
       "1  2000      2       605977\n",
       "2  2000      3       673539\n",
       "3  2000      4       643153\n",
       "4  2000      5       635685"
      ]
     },
     "execution_count": 29,
     "metadata": {},
     "output_type": "execute_result"
    }
   ],
   "source": [
    "syd_dom=syd.loc[:,['Year','Month','DOMESTIC_IN']]\n",
    "syd_dom.head()\n"
   ]
  },
  {
   "cell_type": "code",
   "execution_count": 30,
   "id": "bc736ad1",
   "metadata": {},
   "outputs": [
    {
     "data": {
      "text/plain": [
       "Year\n",
       "2000     8146586\n",
       "2001     8328562\n",
       "2002     7644875\n",
       "2003     8306809\n",
       "2004     9161108\n",
       "2005     9517733\n",
       "2006    10100938\n",
       "2007    10769730\n",
       "2008    11175152\n",
       "2009    11173827\n",
       "2010    12096207\n",
       "2011    11966410\n",
       "2012    12334056\n",
       "2013    12627848\n",
       "2014    12733521\n",
       "2015    12959388\n",
       "2016    13463437\n",
       "2017    13662784\n",
       "2018    13851080\n",
       "2019    13780056\n",
       "2020     3757763\n",
       "2021     3596082\n",
       "2022     6483318\n",
       "Name: DOMESTIC_IN, dtype: int64"
      ]
     },
     "execution_count": 30,
     "metadata": {},
     "output_type": "execute_result"
    }
   ],
   "source": [
    "syd_yr=syd_dom.groupby(['Year'])\n",
    "syd_dom_tot=syd_yr['DOMESTIC_IN'].sum()\n",
    "syd_dom_tot"
   ]
  },
  {
   "cell_type": "code",
   "execution_count": 31,
   "id": "413f8e11",
   "metadata": {},
   "outputs": [
    {
     "data": {
      "image/png": "[encoded data removed]",
      "text/plain": [
       "<Figure size 640x480 with 1 Axes>"
      ]
     },
     "metadata": {},
     "output_type": "display_data"
    }
   ],
   "source": [
    "ade_dom_passengers,=plt.plot(ade_dom_tot,label='Adelaide')\n",
    "bris_dom_passengers,=plt.plot(bris_dom_tot,label='Brisbane')\n",
    "cai_dom_passengers,=plt.plot(cai_dom_tot,label='Cairns')\n",
    "dar_dom_passengers,=plt.plot(dar_dom_tot,label='Darwin')\n",
    "gld_dom_passengers,=plt.plot(gld_dom_tot,label='Gold Coast')\n",
    "melb_dom_passengers,=plt.plot(melb_dom_tot,label='Melbourne',color='silver')\n",
    "perth_dom_passengers,=plt.plot(perth_dom_tot,label='Perth')\n",
    "syd_dom_passengers,=plt.plot(syd_dom_tot,label='Sydney',color='gold')\n",
    "plt.title('Total Number of Domestic Passengers from 2000-2022 per Airport',loc='center')\n",
    "plt.xlabel('Year')\n",
    "plt.ylabel('Total Number of Passengers(10 millions)') \n",
    "plt.legend() \n",
    "plt.grid()\n",
    "plt.axis([2000,2023,0,15000000])\n",
    "plt.rcParams['figure.figsize'] = [9,7]\n",
    "plt.savefig(\"Output/totdom2000-22.png\")\n",
    "plt.show()\n"
   ]
  },
  {
   "cell_type": "code",
   "execution_count": 32,
   "id": "e02be92e",
   "metadata": {},
   "outputs": [
    {
     "data": {
      "text/plain": [
       "13851080"
      ]
     },
     "execution_count": 32,
     "metadata": {},
     "output_type": "execute_result"
    }
   ],
   "source": [
    "syd_max=syd_dom_tot.max()\n",
    "syd_max"
   ]
  },
  {
   "cell_type": "code",
   "execution_count": 33,
   "id": "c1f35876",
   "metadata": {},
   "outputs": [
    {
     "data": {
      "text/plain": [
       "12918042"
      ]
     },
     "execution_count": 33,
     "metadata": {},
     "output_type": "execute_result"
    }
   ],
   "source": [
    "melb_max=melb_dom_tot.max()\n",
    "melb_max"
   ]
  },
  {
   "cell_type": "code",
   "execution_count": 34,
   "id": "19ab7379",
   "metadata": {},
   "outputs": [
    {
     "data": {
      "text/plain": [
       "8806368"
      ]
     },
     "execution_count": 34,
     "metadata": {},
     "output_type": "execute_result"
    }
   ],
   "source": [
    "bris_max=bris_dom_tot.max()\n",
    "bris_max"
   ]
  },
  {
   "cell_type": "code",
   "execution_count": 35,
   "id": "a25f9fd1",
   "metadata": {},
   "outputs": [
    {
     "data": {
      "text/plain": [
       "1172754"
      ]
     },
     "execution_count": 35,
     "metadata": {},
     "output_type": "execute_result"
    }
   ],
   "source": [
    "ade_min=ade_dom_tot.min()\n",
    "ade_min"
   ]
  },
  {
   "cell_type": "code",
   "execution_count": 36,
   "id": "aeccfa31",
   "metadata": {},
   "outputs": [
    {
     "data": {
      "text/plain": [
       "3191435"
      ]
     },
     "execution_count": 36,
     "metadata": {},
     "output_type": "execute_result"
    }
   ],
   "source": [
    "bris_min=bris_dom_tot.min()\n",
    "bris_min"
   ]
  },
  {
   "cell_type": "code",
   "execution_count": 37,
   "id": "7423f61d",
   "metadata": {},
   "outputs": [
    {
     "data": {
      "text/plain": [
       "784172"
      ]
     },
     "execution_count": 37,
     "metadata": {},
     "output_type": "execute_result"
    }
   ],
   "source": [
    "cai_min=cai_dom_tot.min()\n",
    "cai_min"
   ]
  },
  {
   "cell_type": "code",
   "execution_count": 38,
   "id": "e6e1d962",
   "metadata": {},
   "outputs": [
    {
     "data": {
      "text/plain": [
       "327948"
      ]
     },
     "execution_count": 38,
     "metadata": {},
     "output_type": "execute_result"
    }
   ],
   "source": [
    "dar_min=dar_dom_tot.min()\n",
    "dar_min"
   ]
  },
  {
   "cell_type": "code",
   "execution_count": 39,
   "id": "c82db68d",
   "metadata": {},
   "outputs": [
    {
     "data": {
      "text/plain": [
       "751188"
      ]
     },
     "execution_count": 39,
     "metadata": {},
     "output_type": "execute_result"
    }
   ],
   "source": [
    "gld_min=gld_dom_tot.min()\n",
    "gld_min"
   ]
  },
  {
   "cell_type": "code",
   "execution_count": 40,
   "id": "f26f9867",
   "metadata": {},
   "outputs": [
    {
     "data": {
      "text/plain": [
       "3218946"
      ]
     },
     "execution_count": 40,
     "metadata": {},
     "output_type": "execute_result"
    }
   ],
   "source": [
    "melb_min=melb_dom_tot.min()\n",
    "melb_min"
   ]
  },
  {
   "cell_type": "code",
   "execution_count": 41,
   "id": "750fa947",
   "metadata": {},
   "outputs": [
    {
     "data": {
      "text/plain": [
       "1479338"
      ]
     },
     "execution_count": 41,
     "metadata": {},
     "output_type": "execute_result"
    }
   ],
   "source": [
    "perth_min=perth_dom_tot.min()\n",
    "perth_min"
   ]
  },
  {
   "cell_type": "code",
   "execution_count": 42,
   "id": "d3d63256",
   "metadata": {},
   "outputs": [
    {
     "data": {
      "text/plain": [
       "3596082"
      ]
     },
     "execution_count": 42,
     "metadata": {},
     "output_type": "execute_result"
    }
   ],
   "source": [
    "syd_min=syd_dom_tot.min()\n",
    "syd_min"
   ]
  },
  {
   "cell_type": "code",
   "execution_count": 43,
   "id": "b7a495eb",
   "metadata": {},
   "outputs": [
    {
     "data": {
      "text/html": [
       "<div>\n",
       "<style scoped>\n",
       "    .dataframe tbody tr th:only-of-type {\n",
       "        vertical-align: middle;\n",
       "    }\n",
       "\n",
       "    .dataframe tbody tr th {\n",
       "        vertical-align: top;\n",
       "    }\n",
       "\n",
       "    .dataframe thead th {\n",
       "        text-align: right;\n",
       "    }\n",
       "</style>\n",
       "<table border=\"1\" class=\"dataframe\">\n",
       "  <thead>\n",
       "    <tr style=\"text-align: right;\">\n",
       "      <th></th>\n",
       "      <th>Year</th>\n",
       "      <th>Month</th>\n",
       "      <th>INTERNATIONAL_IN</th>\n",
       "    </tr>\n",
       "  </thead>\n",
       "  <tbody>\n",
       "    <tr>\n",
       "      <th>0</th>\n",
       "      <td>2000</td>\n",
       "      <td>1</td>\n",
       "      <td>12600</td>\n",
       "    </tr>\n",
       "    <tr>\n",
       "      <th>1</th>\n",
       "      <td>2000</td>\n",
       "      <td>2</td>\n",
       "      <td>12498</td>\n",
       "    </tr>\n",
       "    <tr>\n",
       "      <th>2</th>\n",
       "      <td>2000</td>\n",
       "      <td>3</td>\n",
       "      <td>10494</td>\n",
       "    </tr>\n",
       "    <tr>\n",
       "      <th>3</th>\n",
       "      <td>2000</td>\n",
       "      <td>4</td>\n",
       "      <td>11000</td>\n",
       "    </tr>\n",
       "    <tr>\n",
       "      <th>4</th>\n",
       "      <td>2000</td>\n",
       "      <td>5</td>\n",
       "      <td>7765</td>\n",
       "    </tr>\n",
       "  </tbody>\n",
       "</table>\n",
       "</div>"
      ],
      "text/plain": [
       "   Year  Month  INTERNATIONAL_IN\n",
       "0  2000      1             12600\n",
       "1  2000      2             12498\n",
       "2  2000      3             10494\n",
       "3  2000      4             11000\n",
       "4  2000      5              7765"
      ]
     },
     "execution_count": 43,
     "metadata": {},
     "output_type": "execute_result"
    }
   ],
   "source": [
    "ade_int=ade.loc[:,['Year','Month','INTERNATIONAL_IN']]\n",
    "ade_int.head()\n"
   ]
  },
  {
   "cell_type": "code",
   "execution_count": 44,
   "id": "c67346f8",
   "metadata": {},
   "outputs": [
    {
     "data": {
      "text/plain": [
       "Year\n",
       "2000    139535\n",
       "2001    124361\n",
       "2002    115448\n",
       "2003    107577\n",
       "2004    147055\n",
       "2005    172571\n",
       "2006    209029\n",
       "2007    234751\n",
       "2008    249375\n",
       "2009    257754\n",
       "2010    273337\n",
       "2011    296137\n",
       "2012    330842\n",
       "2013    406878\n",
       "2014    488795\n",
       "2015    438120\n",
       "2016    460538\n",
       "2017    484696\n",
       "2018    515561\n",
       "2019    569488\n",
       "2020    135001\n",
       "2021     22140\n",
       "2022     98853\n",
       "Name: INTERNATIONAL_IN, dtype: int64"
      ]
     },
     "execution_count": 44,
     "metadata": {},
     "output_type": "execute_result"
    }
   ],
   "source": [
    "ade_iyr=ade_int.groupby(['Year'])\n",
    "ade_int_tot=ade_iyr['INTERNATIONAL_IN'].sum()\n",
    "ade_int_tot"
   ]
  },
  {
   "cell_type": "code",
   "execution_count": 45,
   "id": "552fb697",
   "metadata": {
    "scrolled": true
   },
   "outputs": [
    {
     "data": {
      "text/html": [
       "<div>\n",
       "<style scoped>\n",
       "    .dataframe tbody tr th:only-of-type {\n",
       "        vertical-align: middle;\n",
       "    }\n",
       "\n",
       "    .dataframe tbody tr th {\n",
       "        vertical-align: top;\n",
       "    }\n",
       "\n",
       "    .dataframe thead th {\n",
       "        text-align: right;\n",
       "    }\n",
       "</style>\n",
       "<table border=\"1\" class=\"dataframe\">\n",
       "  <thead>\n",
       "    <tr style=\"text-align: right;\">\n",
       "      <th></th>\n",
       "      <th>Year</th>\n",
       "      <th>Month</th>\n",
       "      <th>INTERNATIONAL_IN</th>\n",
       "    </tr>\n",
       "  </thead>\n",
       "  <tbody>\n",
       "    <tr>\n",
       "      <th>0</th>\n",
       "      <td>2000</td>\n",
       "      <td>1</td>\n",
       "      <td>107017</td>\n",
       "    </tr>\n",
       "    <tr>\n",
       "      <th>1</th>\n",
       "      <td>2000</td>\n",
       "      <td>2</td>\n",
       "      <td>99603</td>\n",
       "    </tr>\n",
       "    <tr>\n",
       "      <th>2</th>\n",
       "      <td>2000</td>\n",
       "      <td>3</td>\n",
       "      <td>100516</td>\n",
       "    </tr>\n",
       "    <tr>\n",
       "      <th>3</th>\n",
       "      <td>2000</td>\n",
       "      <td>4</td>\n",
       "      <td>110553</td>\n",
       "    </tr>\n",
       "    <tr>\n",
       "      <th>4</th>\n",
       "      <td>2000</td>\n",
       "      <td>5</td>\n",
       "      <td>96959</td>\n",
       "    </tr>\n",
       "  </tbody>\n",
       "</table>\n",
       "</div>"
      ],
      "text/plain": [
       "   Year  Month  INTERNATIONAL_IN\n",
       "0  2000      1            107017\n",
       "1  2000      2             99603\n",
       "2  2000      3            100516\n",
       "3  2000      4            110553\n",
       "4  2000      5             96959"
      ]
     },
     "execution_count": 45,
     "metadata": {},
     "output_type": "execute_result"
    }
   ],
   "source": [
    "bris_int=bris.loc[:,['Year','Month','INTERNATIONAL_IN']]\n",
    "bris_int.head()\n"
   ]
  },
  {
   "cell_type": "code",
   "execution_count": 46,
   "id": "e185fadc",
   "metadata": {},
   "outputs": [
    {
     "data": {
      "text/plain": [
       "Year\n",
       "2000    1309606\n",
       "2001    1348856\n",
       "2002    1290423\n",
       "2003    1303068\n",
       "2004    1652284\n",
       "2005    1827122\n",
       "2006    1902026\n",
       "2007    1971097\n",
       "2008    2035342\n",
       "2009    2051853\n",
       "2010    2135978\n",
       "2011    2232345\n",
       "2012    2272237\n",
       "2013    2372918\n",
       "2014    2510710\n",
       "2015    2622941\n",
       "2016    2729101\n",
       "2017    2865078\n",
       "2018    3059077\n",
       "2019    3214354\n",
       "2020     728899\n",
       "2021     118769\n",
       "2022     626514\n",
       "Name: INTERNATIONAL_IN, dtype: int64"
      ]
     },
     "execution_count": 46,
     "metadata": {},
     "output_type": "execute_result"
    }
   ],
   "source": [
    "bris_iyr=bris_int.groupby(['Year'])\n",
    "bris_int_tot=bris_iyr['INTERNATIONAL_IN'].sum()\n",
    "bris_int_tot"
   ]
  },
  {
   "cell_type": "code",
   "execution_count": 47,
   "id": "d9d9b39b",
   "metadata": {},
   "outputs": [
    {
     "data": {
      "text/html": [
       "<div>\n",
       "<style scoped>\n",
       "    .dataframe tbody tr th:only-of-type {\n",
       "        vertical-align: middle;\n",
       "    }\n",
       "\n",
       "    .dataframe tbody tr th {\n",
       "        vertical-align: top;\n",
       "    }\n",
       "\n",
       "    .dataframe thead th {\n",
       "        text-align: right;\n",
       "    }\n",
       "</style>\n",
       "<table border=\"1\" class=\"dataframe\">\n",
       "  <thead>\n",
       "    <tr style=\"text-align: right;\">\n",
       "      <th></th>\n",
       "      <th>Year</th>\n",
       "      <th>Month</th>\n",
       "      <th>INTERNATIONAL_IN</th>\n",
       "    </tr>\n",
       "  </thead>\n",
       "  <tbody>\n",
       "    <tr>\n",
       "      <th>0</th>\n",
       "      <td>2000</td>\n",
       "      <td>1</td>\n",
       "      <td>23591</td>\n",
       "    </tr>\n",
       "    <tr>\n",
       "      <th>1</th>\n",
       "      <td>2000</td>\n",
       "      <td>2</td>\n",
       "      <td>26080</td>\n",
       "    </tr>\n",
       "    <tr>\n",
       "      <th>2</th>\n",
       "      <td>2000</td>\n",
       "      <td>3</td>\n",
       "      <td>25976</td>\n",
       "    </tr>\n",
       "    <tr>\n",
       "      <th>3</th>\n",
       "      <td>2000</td>\n",
       "      <td>4</td>\n",
       "      <td>25685</td>\n",
       "    </tr>\n",
       "    <tr>\n",
       "      <th>4</th>\n",
       "      <td>2000</td>\n",
       "      <td>5</td>\n",
       "      <td>24323</td>\n",
       "    </tr>\n",
       "  </tbody>\n",
       "</table>\n",
       "</div>"
      ],
      "text/plain": [
       "   Year  Month  INTERNATIONAL_IN\n",
       "0  2000      1             23591\n",
       "1  2000      2             26080\n",
       "2  2000      3             25976\n",
       "3  2000      4             25685\n",
       "4  2000      5             24323"
      ]
     },
     "execution_count": 47,
     "metadata": {},
     "output_type": "execute_result"
    }
   ],
   "source": [
    "cai_int=cai.loc[:,['Year','Month','INTERNATIONAL_IN']]\n",
    "cai_int.head()\n"
   ]
  },
  {
   "cell_type": "code",
   "execution_count": 48,
   "id": "59ec98b3",
   "metadata": {},
   "outputs": [
    {
     "data": {
      "text/plain": [
       "Year\n",
       "2000    341270\n",
       "2001    333952\n",
       "2002    387072\n",
       "2003    375819\n",
       "2004    430620\n",
       "2005    433784\n",
       "2006    399459\n",
       "2007    353748\n",
       "2008    300386\n",
       "2009    205381\n",
       "2010    250466\n",
       "2011    254540\n",
       "2012    257389\n",
       "2013    247494\n",
       "2014    230820\n",
       "2015    271115\n",
       "2016    313574\n",
       "2017    320120\n",
       "2018    330491\n",
       "2019    332245\n",
       "2020     64826\n",
       "2021      1339\n",
       "2022     29655\n",
       "Name: INTERNATIONAL_IN, dtype: int64"
      ]
     },
     "execution_count": 48,
     "metadata": {},
     "output_type": "execute_result"
    }
   ],
   "source": [
    "cai_iyr=cai_int.groupby(['Year'])\n",
    "cai_int_tot=cai_iyr['INTERNATIONAL_IN'].sum()\n",
    "cai_int_tot"
   ]
  },
  {
   "cell_type": "code",
   "execution_count": 49,
   "id": "9c470d94",
   "metadata": {},
   "outputs": [
    {
     "data": {
      "text/html": [
       "<div>\n",
       "<style scoped>\n",
       "    .dataframe tbody tr th:only-of-type {\n",
       "        vertical-align: middle;\n",
       "    }\n",
       "\n",
       "    .dataframe tbody tr th {\n",
       "        vertical-align: top;\n",
       "    }\n",
       "\n",
       "    .dataframe thead th {\n",
       "        text-align: right;\n",
       "    }\n",
       "</style>\n",
       "<table border=\"1\" class=\"dataframe\">\n",
       "  <thead>\n",
       "    <tr style=\"text-align: right;\">\n",
       "      <th></th>\n",
       "      <th>Year</th>\n",
       "      <th>Month</th>\n",
       "      <th>INTERNATIONAL_IN</th>\n",
       "    </tr>\n",
       "  </thead>\n",
       "  <tbody>\n",
       "    <tr>\n",
       "      <th>0</th>\n",
       "      <td>2000</td>\n",
       "      <td>1</td>\n",
       "      <td>6403</td>\n",
       "    </tr>\n",
       "    <tr>\n",
       "      <th>1</th>\n",
       "      <td>2000</td>\n",
       "      <td>2</td>\n",
       "      <td>5025</td>\n",
       "    </tr>\n",
       "    <tr>\n",
       "      <th>2</th>\n",
       "      <td>2000</td>\n",
       "      <td>3</td>\n",
       "      <td>4930</td>\n",
       "    </tr>\n",
       "    <tr>\n",
       "      <th>3</th>\n",
       "      <td>2000</td>\n",
       "      <td>4</td>\n",
       "      <td>5888</td>\n",
       "    </tr>\n",
       "    <tr>\n",
       "      <th>4</th>\n",
       "      <td>2000</td>\n",
       "      <td>5</td>\n",
       "      <td>5909</td>\n",
       "    </tr>\n",
       "  </tbody>\n",
       "</table>\n",
       "</div>"
      ],
      "text/plain": [
       "   Year  Month  INTERNATIONAL_IN\n",
       "0  2000      1              6403\n",
       "1  2000      2              5025\n",
       "2  2000      3              4930\n",
       "3  2000      4              5888\n",
       "4  2000      5              5909"
      ]
     },
     "execution_count": 49,
     "metadata": {},
     "output_type": "execute_result"
    }
   ],
   "source": [
    "dar_int=dar.loc[:,['Year','Month','INTERNATIONAL_IN']]\n",
    "dar_int.head()\n"
   ]
  },
  {
   "cell_type": "code",
   "execution_count": 50,
   "id": "3e2528b6",
   "metadata": {},
   "outputs": [
    {
     "data": {
      "text/plain": [
       "Year\n",
       "2000     87913\n",
       "2001     79069\n",
       "2002     51563\n",
       "2003     38276\n",
       "2004     49885\n",
       "2005     52436\n",
       "2006     61497\n",
       "2007     74859\n",
       "2008     95345\n",
       "2009    101943\n",
       "2010    112436\n",
       "2011    160648\n",
       "2012    161735\n",
       "2013    162654\n",
       "2014    158654\n",
       "2015    132904\n",
       "2016    134483\n",
       "2017    137986\n",
       "2018    115031\n",
       "2019    128599\n",
       "2020     28124\n",
       "2021      1890\n",
       "2022     38322\n",
       "Name: INTERNATIONAL_IN, dtype: int64"
      ]
     },
     "execution_count": 50,
     "metadata": {},
     "output_type": "execute_result"
    }
   ],
   "source": [
    "dar_iyr=dar_int.groupby(['Year'])\n",
    "dar_int_tot=dar_iyr['INTERNATIONAL_IN'].sum()\n",
    "dar_int_tot"
   ]
  },
  {
   "cell_type": "code",
   "execution_count": 51,
   "id": "c6b91058",
   "metadata": {},
   "outputs": [
    {
     "data": {
      "text/html": [
       "<div>\n",
       "<style scoped>\n",
       "    .dataframe tbody tr th:only-of-type {\n",
       "        vertical-align: middle;\n",
       "    }\n",
       "\n",
       "    .dataframe tbody tr th {\n",
       "        vertical-align: top;\n",
       "    }\n",
       "\n",
       "    .dataframe thead th {\n",
       "        text-align: right;\n",
       "    }\n",
       "</style>\n",
       "<table border=\"1\" class=\"dataframe\">\n",
       "  <thead>\n",
       "    <tr style=\"text-align: right;\">\n",
       "      <th></th>\n",
       "      <th>Year</th>\n",
       "      <th>Month</th>\n",
       "      <th>INTERNATIONAL_IN</th>\n",
       "    </tr>\n",
       "  </thead>\n",
       "  <tbody>\n",
       "    <tr>\n",
       "      <th>0</th>\n",
       "      <td>2000</td>\n",
       "      <td>1</td>\n",
       "      <td>701</td>\n",
       "    </tr>\n",
       "    <tr>\n",
       "      <th>1</th>\n",
       "      <td>2000</td>\n",
       "      <td>2</td>\n",
       "      <td>641</td>\n",
       "    </tr>\n",
       "    <tr>\n",
       "      <th>2</th>\n",
       "      <td>2000</td>\n",
       "      <td>3</td>\n",
       "      <td>862</td>\n",
       "    </tr>\n",
       "    <tr>\n",
       "      <th>3</th>\n",
       "      <td>2000</td>\n",
       "      <td>4</td>\n",
       "      <td>1422</td>\n",
       "    </tr>\n",
       "    <tr>\n",
       "      <th>4</th>\n",
       "      <td>2000</td>\n",
       "      <td>5</td>\n",
       "      <td>1040</td>\n",
       "    </tr>\n",
       "  </tbody>\n",
       "</table>\n",
       "</div>"
      ],
      "text/plain": [
       "   Year  Month  INTERNATIONAL_IN\n",
       "0  2000      1               701\n",
       "1  2000      2               641\n",
       "2  2000      3               862\n",
       "3  2000      4              1422\n",
       "4  2000      5              1040"
      ]
     },
     "execution_count": 51,
     "metadata": {},
     "output_type": "execute_result"
    }
   ],
   "source": [
    "gld_int=gld.loc[:,['Year','Month','INTERNATIONAL_IN']]\n",
    "gld_int.head()\n"
   ]
  },
  {
   "cell_type": "code",
   "execution_count": 52,
   "id": "f9295d21",
   "metadata": {},
   "outputs": [
    {
     "data": {
      "text/plain": [
       "Year\n",
       "2000     14598\n",
       "2001     20931\n",
       "2002     56816\n",
       "2003     70007\n",
       "2004     67554\n",
       "2005    100791\n",
       "2006     96136\n",
       "2007    104756\n",
       "2008    172896\n",
       "2009    315638\n",
       "2010    384901\n",
       "2011    356305\n",
       "2012    409401\n",
       "2013    433165\n",
       "2014    445016\n",
       "2015    478806\n",
       "2016    562700\n",
       "2017    555640\n",
       "2018    519417\n",
       "2019    476535\n",
       "2020    109436\n",
       "2021     21660\n",
       "2022     87857\n",
       "Name: INTERNATIONAL_IN, dtype: int64"
      ]
     },
     "execution_count": 52,
     "metadata": {},
     "output_type": "execute_result"
    }
   ],
   "source": [
    "gld_iyr=gld_int.groupby(['Year'])\n",
    "gld_int_tot=gld_iyr['INTERNATIONAL_IN'].sum()\n",
    "gld_int_tot"
   ]
  },
  {
   "cell_type": "code",
   "execution_count": 53,
   "id": "3259be2c",
   "metadata": {},
   "outputs": [
    {
     "data": {
      "text/html": [
       "<div>\n",
       "<style scoped>\n",
       "    .dataframe tbody tr th:only-of-type {\n",
       "        vertical-align: middle;\n",
       "    }\n",
       "\n",
       "    .dataframe tbody tr th {\n",
       "        vertical-align: top;\n",
       "    }\n",
       "\n",
       "    .dataframe thead th {\n",
       "        text-align: right;\n",
       "    }\n",
       "</style>\n",
       "<table border=\"1\" class=\"dataframe\">\n",
       "  <thead>\n",
       "    <tr style=\"text-align: right;\">\n",
       "      <th></th>\n",
       "      <th>Year</th>\n",
       "      <th>Month</th>\n",
       "      <th>INTERNATIONAL_IN</th>\n",
       "    </tr>\n",
       "  </thead>\n",
       "  <tbody>\n",
       "    <tr>\n",
       "      <th>0</th>\n",
       "      <td>2000</td>\n",
       "      <td>1</td>\n",
       "      <td>138776</td>\n",
       "    </tr>\n",
       "    <tr>\n",
       "      <th>1</th>\n",
       "      <td>2000</td>\n",
       "      <td>2</td>\n",
       "      <td>126905</td>\n",
       "    </tr>\n",
       "    <tr>\n",
       "      <th>2</th>\n",
       "      <td>2000</td>\n",
       "      <td>3</td>\n",
       "      <td>117411</td>\n",
       "    </tr>\n",
       "    <tr>\n",
       "      <th>3</th>\n",
       "      <td>2000</td>\n",
       "      <td>4</td>\n",
       "      <td>121332</td>\n",
       "    </tr>\n",
       "    <tr>\n",
       "      <th>4</th>\n",
       "      <td>2000</td>\n",
       "      <td>5</td>\n",
       "      <td>98769</td>\n",
       "    </tr>\n",
       "  </tbody>\n",
       "</table>\n",
       "</div>"
      ],
      "text/plain": [
       "   Year  Month  INTERNATIONAL_IN\n",
       "0  2000      1            138776\n",
       "1  2000      2            126905\n",
       "2  2000      3            117411\n",
       "3  2000      4            121332\n",
       "4  2000      5             98769"
      ]
     },
     "execution_count": 53,
     "metadata": {},
     "output_type": "execute_result"
    }
   ],
   "source": [
    "melb_int=melb.loc[:,['Year','Month','INTERNATIONAL_IN']]\n",
    "melb_int.head()\n"
   ]
  },
  {
   "cell_type": "code",
   "execution_count": 54,
   "id": "e6c67f7b",
   "metadata": {},
   "outputs": [
    {
     "data": {
      "text/plain": [
       "Year\n",
       "2000    1518891\n",
       "2001    1667877\n",
       "2002    1677808\n",
       "2003    1620653\n",
       "2004    1993040\n",
       "2005    2150224\n",
       "2006    2181306\n",
       "2007    2308615\n",
       "2008    2400197\n",
       "2009    2588313\n",
       "2010    2942050\n",
       "2011    3248438\n",
       "2012    3439570\n",
       "2013    3683770\n",
       "2014    4031981\n",
       "2015    4458023\n",
       "2016    4855000\n",
       "2017    5210547\n",
       "2018    5656022\n",
       "2019    5698079\n",
       "2020    1257366\n",
       "2021     172458\n",
       "2022    1441676\n",
       "Name: INTERNATIONAL_IN, dtype: int64"
      ]
     },
     "execution_count": 54,
     "metadata": {},
     "output_type": "execute_result"
    }
   ],
   "source": [
    "melb_iyr=melb_int.groupby(['Year'])\n",
    "melb_int_tot=melb_iyr['INTERNATIONAL_IN'].sum()\n",
    "melb_int_tot"
   ]
  },
  {
   "cell_type": "code",
   "execution_count": 55,
   "id": "b4f879f6",
   "metadata": {},
   "outputs": [
    {
     "data": {
      "text/html": [
       "<div>\n",
       "<style scoped>\n",
       "    .dataframe tbody tr th:only-of-type {\n",
       "        vertical-align: middle;\n",
       "    }\n",
       "\n",
       "    .dataframe tbody tr th {\n",
       "        vertical-align: top;\n",
       "    }\n",
       "\n",
       "    .dataframe thead th {\n",
       "        text-align: right;\n",
       "    }\n",
       "</style>\n",
       "<table border=\"1\" class=\"dataframe\">\n",
       "  <thead>\n",
       "    <tr style=\"text-align: right;\">\n",
       "      <th></th>\n",
       "      <th>Year</th>\n",
       "      <th>Month</th>\n",
       "      <th>INTERNATIONAL_IN</th>\n",
       "    </tr>\n",
       "  </thead>\n",
       "  <tbody>\n",
       "    <tr>\n",
       "      <th>0</th>\n",
       "      <td>2000</td>\n",
       "      <td>1</td>\n",
       "      <td>72336</td>\n",
       "    </tr>\n",
       "    <tr>\n",
       "      <th>1</th>\n",
       "      <td>2000</td>\n",
       "      <td>2</td>\n",
       "      <td>66068</td>\n",
       "    </tr>\n",
       "    <tr>\n",
       "      <th>2</th>\n",
       "      <td>2000</td>\n",
       "      <td>3</td>\n",
       "      <td>62341</td>\n",
       "    </tr>\n",
       "    <tr>\n",
       "      <th>3</th>\n",
       "      <td>2000</td>\n",
       "      <td>4</td>\n",
       "      <td>66159</td>\n",
       "    </tr>\n",
       "    <tr>\n",
       "      <th>4</th>\n",
       "      <td>2000</td>\n",
       "      <td>5</td>\n",
       "      <td>50973</td>\n",
       "    </tr>\n",
       "  </tbody>\n",
       "</table>\n",
       "</div>"
      ],
      "text/plain": [
       "   Year  Month  INTERNATIONAL_IN\n",
       "0  2000      1             72336\n",
       "1  2000      2             66068\n",
       "2  2000      3             62341\n",
       "3  2000      4             66159\n",
       "4  2000      5             50973"
      ]
     },
     "execution_count": 55,
     "metadata": {},
     "output_type": "execute_result"
    }
   ],
   "source": [
    "perth_int=perth.loc[:,['Year','Month','INTERNATIONAL_IN']]\n",
    "perth_int.head()\n"
   ]
  },
  {
   "cell_type": "code",
   "execution_count": 56,
   "id": "93ea67ef",
   "metadata": {},
   "outputs": [
    {
     "data": {
      "text/plain": [
       "Year\n",
       "2000     810998\n",
       "2001     814035\n",
       "2002     837755\n",
       "2003     817616\n",
       "2004     930693\n",
       "2005    1022241\n",
       "2006    1042765\n",
       "2007    1212943\n",
       "2008    1299846\n",
       "2009    1411683\n",
       "2010    1579445\n",
       "2011    1696939\n",
       "2012    1831576\n",
       "2013    1981237\n",
       "2014    2116598\n",
       "2015    2116736\n",
       "2016    2214255\n",
       "2017    2218252\n",
       "2018    2198586\n",
       "2019    2198754\n",
       "2020     523827\n",
       "2021      40897\n",
       "2022     422641\n",
       "Name: INTERNATIONAL_IN, dtype: int64"
      ]
     },
     "execution_count": 56,
     "metadata": {},
     "output_type": "execute_result"
    }
   ],
   "source": [
    "perth_iyr=perth_int.groupby(['Year'])\n",
    "perth_int_tot=perth_iyr['INTERNATIONAL_IN'].sum()\n",
    "perth_int_tot"
   ]
  },
  {
   "cell_type": "code",
   "execution_count": 57,
   "id": "e73bf9b8",
   "metadata": {},
   "outputs": [
    {
     "data": {
      "text/html": [
       "<div>\n",
       "<style scoped>\n",
       "    .dataframe tbody tr th:only-of-type {\n",
       "        vertical-align: middle;\n",
       "    }\n",
       "\n",
       "    .dataframe tbody tr th {\n",
       "        vertical-align: top;\n",
       "    }\n",
       "\n",
       "    .dataframe thead th {\n",
       "        text-align: right;\n",
       "    }\n",
       "</style>\n",
       "<table border=\"1\" class=\"dataframe\">\n",
       "  <thead>\n",
       "    <tr style=\"text-align: right;\">\n",
       "      <th></th>\n",
       "      <th>Year</th>\n",
       "      <th>Month</th>\n",
       "      <th>INTERNATIONAL_IN</th>\n",
       "    </tr>\n",
       "  </thead>\n",
       "  <tbody>\n",
       "    <tr>\n",
       "      <th>0</th>\n",
       "      <td>2000</td>\n",
       "      <td>1</td>\n",
       "      <td>357512</td>\n",
       "    </tr>\n",
       "    <tr>\n",
       "      <th>1</th>\n",
       "      <td>2000</td>\n",
       "      <td>2</td>\n",
       "      <td>328992</td>\n",
       "    </tr>\n",
       "    <tr>\n",
       "      <th>2</th>\n",
       "      <td>2000</td>\n",
       "      <td>3</td>\n",
       "      <td>303770</td>\n",
       "    </tr>\n",
       "    <tr>\n",
       "      <th>3</th>\n",
       "      <td>2000</td>\n",
       "      <td>4</td>\n",
       "      <td>327665</td>\n",
       "    </tr>\n",
       "    <tr>\n",
       "      <th>4</th>\n",
       "      <td>2000</td>\n",
       "      <td>5</td>\n",
       "      <td>273093</td>\n",
       "    </tr>\n",
       "  </tbody>\n",
       "</table>\n",
       "</div>"
      ],
      "text/plain": [
       "   Year  Month  INTERNATIONAL_IN\n",
       "0  2000      1            357512\n",
       "1  2000      2            328992\n",
       "2  2000      3            303770\n",
       "3  2000      4            327665\n",
       "4  2000      5            273093"
      ]
     },
     "execution_count": 57,
     "metadata": {},
     "output_type": "execute_result"
    }
   ],
   "source": [
    "syd_int=syd.loc[:,['Year','Month','INTERNATIONAL_IN']]\n",
    "syd_int.head()\n"
   ]
  },
  {
   "cell_type": "code",
   "execution_count": 58,
   "id": "0821bc0a",
   "metadata": {},
   "outputs": [
    {
     "data": {
      "text/plain": [
       "Year\n",
       "2000    4033463\n",
       "2001    4050012\n",
       "2002    3942082\n",
       "2003    3922337\n",
       "2004    4425862\n",
       "2005    4734192\n",
       "2006    4941157\n",
       "2007    5207278\n",
       "2008    5325234\n",
       "2009    5369063\n",
       "2010    5743999\n",
       "2011    5895629\n",
       "2012    6202670\n",
       "2013    6483721\n",
       "2014    6652183\n",
       "2015    6978460\n",
       "2016    7593690\n",
       "2017    8057732\n",
       "2018    8416205\n",
       "2019    8463522\n",
       "2020    1921734\n",
       "2021     320996\n",
       "2022    2201053\n",
       "Name: INTERNATIONAL_IN, dtype: int64"
      ]
     },
     "execution_count": 58,
     "metadata": {},
     "output_type": "execute_result"
    }
   ],
   "source": [
    "syd_iyr=syd_int.groupby(['Year'])\n",
    "syd_int_tot=syd_iyr['INTERNATIONAL_IN'].sum()\n",
    "syd_int_tot"
   ]
  },
  {
   "cell_type": "code",
   "execution_count": 59,
   "id": "ba63f7b4",
   "metadata": {
    "scrolled": true
   },
   "outputs": [
    {
     "data": {
      "image/png": "[encoded data removed]",
      "text/plain": [
       "<Figure size 900x700 with 1 Axes>"
      ]
     },
     "metadata": {},
     "output_type": "display_data"
    }
   ],
   "source": [
    "ade_int_passengers,=plt.plot(ade_int_tot,label='Adelaide')\n",
    "bris_int_passengers,=plt.plot(bris_int_tot,label='Brisbane')\n",
    "cai_int_passengers,=plt.plot(cai_int_tot,label='Cairns')\n",
    "dar_int_passengers,=plt.plot(dar_int_tot,label='Darwin')\n",
    "gld_int_passengers,=plt.plot(gld_int_tot,label='Gold Coast')\n",
    "melb_int_passengers,=plt.plot(melb_int_tot,label='Melbourne',color='silver')\n",
    "perth_int_passengers,=plt.plot(perth_int_tot,label='Perth')\n",
    "syd_int_passengers,=plt.plot(syd_int_tot,label='Sydney',color='gold')\n",
    "plt.title('Total Number of International Passengers from 2000-2022 per Airport',loc='center')\n",
    "plt.xlabel('Year')\n",
    "plt.ylabel('Total Number of Passengers(millions)') \n",
    "plt.grid()\n",
    "plt.axis([2000,2023,0,9000000])\n",
    "plt.legend()\n",
    "plt.rcParams['figure.figsize'] = [9, 7]\n",
    "plt.savefig(\"Output/totint2000_22.png\")\n",
    "plt.show()"
   ]
  },
  {
   "cell_type": "code",
   "execution_count": 60,
   "id": "b042ff75",
   "metadata": {},
   "outputs": [
    {
     "data": {
      "text/plain": [
       "8463522"
      ]
     },
     "execution_count": 60,
     "metadata": {},
     "output_type": "execute_result"
    }
   ],
   "source": [
    "syd_maxi=syd_int_tot.max()\n",
    "syd_maxi"
   ]
  },
  {
   "cell_type": "code",
   "execution_count": 61,
   "id": "ed5b6e34",
   "metadata": {},
   "outputs": [
    {
     "data": {
      "text/plain": [
       "5698079"
      ]
     },
     "execution_count": 61,
     "metadata": {},
     "output_type": "execute_result"
    }
   ],
   "source": [
    "melb_maxi=melb_int_tot.max()\n",
    "melb_maxi"
   ]
  },
  {
   "cell_type": "code",
   "execution_count": 62,
   "id": "1cc05f87",
   "metadata": {},
   "outputs": [
    {
     "data": {
      "text/plain": [
       "3214354"
      ]
     },
     "execution_count": 62,
     "metadata": {},
     "output_type": "execute_result"
    }
   ],
   "source": [
    "bris_maxi=bris_int_tot.max()\n",
    "bris_maxi"
   ]
  },
  {
   "cell_type": "code",
   "execution_count": 63,
   "id": "0053d95c",
   "metadata": {},
   "outputs": [
    {
     "data": {
      "text/plain": [
       "118769"
      ]
     },
     "execution_count": 63,
     "metadata": {},
     "output_type": "execute_result"
    }
   ],
   "source": [
    "bris_mini=bris_int_tot.min()\n",
    "bris_mini"
   ]
  },
  {
   "cell_type": "code",
   "execution_count": 64,
   "id": "279f4904",
   "metadata": {},
   "outputs": [
    {
     "data": {
      "text/plain": [
       "1339"
      ]
     },
     "execution_count": 64,
     "metadata": {},
     "output_type": "execute_result"
    }
   ],
   "source": [
    "cai_mini=cai_int_tot.min()\n",
    "cai_mini"
   ]
  },
  {
   "cell_type": "code",
   "execution_count": 65,
   "id": "a3dd1d79",
   "metadata": {},
   "outputs": [
    {
     "data": {
      "text/plain": [
       "1890"
      ]
     },
     "execution_count": 65,
     "metadata": {},
     "output_type": "execute_result"
    }
   ],
   "source": [
    "dar_mini=dar_int_tot.min()\n",
    "dar_mini"
   ]
  },
  {
   "cell_type": "code",
   "execution_count": 66,
   "id": "97fdde80",
   "metadata": {},
   "outputs": [
    {
     "data": {
      "text/plain": [
       "14598"
      ]
     },
     "execution_count": 66,
     "metadata": {},
     "output_type": "execute_result"
    }
   ],
   "source": [
    "gld_mini=gld_int_tot.min()\n",
    "gld_mini"
   ]
  },
  {
   "cell_type": "code",
   "execution_count": 67,
   "id": "26fa6fa8",
   "metadata": {},
   "outputs": [
    {
     "data": {
      "text/plain": [
       "172458"
      ]
     },
     "execution_count": 67,
     "metadata": {},
     "output_type": "execute_result"
    }
   ],
   "source": [
    "melb_mini=melb_int_tot.min()\n",
    "melb_mini"
   ]
  },
  {
   "cell_type": "code",
   "execution_count": 68,
   "id": "a7d710a2",
   "metadata": {},
   "outputs": [
    {
     "data": {
      "text/plain": [
       "40897"
      ]
     },
     "execution_count": 68,
     "metadata": {},
     "output_type": "execute_result"
    }
   ],
   "source": [
    "perth_mini=perth_int_tot.min()\n",
    "perth_mini"
   ]
  },
  {
   "cell_type": "code",
   "execution_count": 69,
   "id": "6eb8c59e",
   "metadata": {},
   "outputs": [
    {
     "data": {
      "text/plain": [
       "320996"
      ]
     },
     "execution_count": 69,
     "metadata": {},
     "output_type": "execute_result"
    }
   ],
   "source": [
    "syd_mini=syd_int_tot.min()\n",
    "syd_mini"
   ]
  },
  {
   "cell_type": "code",
   "execution_count": 70,
   "id": "a649d18b",
   "metadata": {},
   "outputs": [
    {
     "name": "stderr",
     "output_type": "stream",
     "text": [
      "C:\\Users\\61413\\AppData\\Local\\Temp\\ipykernel_980\\1596276424.py:5: FutureWarning: Indexing with multiple keys (implicitly converted to a tuple of keys) will be deprecated, use a list instead.\n",
      "  ap_dom_int_tot=apgrp_dom_int['DOMESTIC_IN','INTERNATIONAL_IN'].sum()\n"
     ]
    },
    {
     "data": {
      "text/html": [
       "<div>\n",
       "<style scoped>\n",
       "    .dataframe tbody tr th:only-of-type {\n",
       "        vertical-align: middle;\n",
       "    }\n",
       "\n",
       "    .dataframe tbody tr th {\n",
       "        vertical-align: top;\n",
       "    }\n",
       "\n",
       "    .dataframe thead th {\n",
       "        text-align: right;\n",
       "    }\n",
       "</style>\n",
       "<table border=\"1\" class=\"dataframe\">\n",
       "  <thead>\n",
       "    <tr style=\"text-align: right;\">\n",
       "      <th></th>\n",
       "      <th>DOMESTIC_IN</th>\n",
       "      <th>INTERNATIONAL_IN</th>\n",
       "    </tr>\n",
       "    <tr>\n",
       "      <th>AIRPORT</th>\n",
       "      <th></th>\n",
       "      <th></th>\n",
       "    </tr>\n",
       "  </thead>\n",
       "  <tbody>\n",
       "    <tr>\n",
       "      <th>ADELAIDE</th>\n",
       "      <td>64161814</td>\n",
       "      <td>6277842</td>\n",
       "    </tr>\n",
       "    <tr>\n",
       "      <th>BRISBANE</th>\n",
       "      <td>154268214</td>\n",
       "      <td>44180598</td>\n",
       "    </tr>\n",
       "    <tr>\n",
       "      <th>CAIRNS</th>\n",
       "      <td>35478716</td>\n",
       "      <td>6465565</td>\n",
       "    </tr>\n",
       "    <tr>\n",
       "      <th>DARWIN</th>\n",
       "      <td>15315795</td>\n",
       "      <td>2166252</td>\n",
       "    </tr>\n",
       "    <tr>\n",
       "      <th>GOLD COAST</th>\n",
       "      <td>43381991</td>\n",
       "      <td>5860962</td>\n",
       "    </tr>\n",
       "    <tr>\n",
       "      <th>MELBOURNE</th>\n",
       "      <td>211668268</td>\n",
       "      <td>66201904</td>\n",
       "    </tr>\n",
       "    <tr>\n",
       "      <th>PERTH</th>\n",
       "      <td>70847392</td>\n",
       "      <td>31340318</td>\n",
       "    </tr>\n",
       "    <tr>\n",
       "      <th>SYDNEY</th>\n",
       "      <td>237637270</td>\n",
       "      <td>120882274</td>\n",
       "    </tr>\n",
       "  </tbody>\n",
       "</table>\n",
       "</div>"
      ],
      "text/plain": [
       "            DOMESTIC_IN  INTERNATIONAL_IN\n",
       "AIRPORT                                  \n",
       "ADELAIDE       64161814           6277842\n",
       "BRISBANE      154268214          44180598\n",
       "CAIRNS         35478716           6465565\n",
       "DARWIN         15315795           2166252\n",
       "GOLD COAST     43381991           5860962\n",
       "MELBOURNE     211668268          66201904\n",
       "PERTH          70847392          31340318\n",
       "SYDNEY        237637270         120882274"
      ]
     },
     "execution_count": 70,
     "metadata": {},
     "output_type": "execute_result"
    }
   ],
   "source": [
    "dom_int.head()\n",
    "ap_dom_int=dom_int.loc[:,['AIRPORT','DOMESTIC_IN','INTERNATIONAL_IN']]\n",
    "apgrp_dom_int=ap_dom_int.groupby(['AIRPORT'])\n",
    "apgrp_dom_int.head()\n",
    "ap_dom_int_tot=apgrp_dom_int['DOMESTIC_IN','INTERNATIONAL_IN'].sum()\n",
    "ap_dom_int_tot"
   ]
  },
  {
   "cell_type": "code",
   "execution_count": 71,
   "id": "93126195",
   "metadata": {
    "scrolled": true
   },
   "outputs": [
    {
     "data": {
      "image/png": "[encoded data removed]",
      "text/plain": [
       "<Figure size 1100x900 with 1 Axes>"
      ]
     },
     "metadata": {},
     "output_type": "display_data"
    }
   ],
   "source": [
    "figure1 = ap_dom_int_tot.plot(kind=\"bar\", color=[\"forestgreen\", \"blueviolet\"], figsize=(11,9),\n",
    "                              title=\"Total Number of Domestic vs International passenger from from 2000-2022 per Airport \")\n",
    "\n",
    "figure1.set_xlabel(\"Airport\")\n",
    "figure1.set_ylabel(\"Total number of passengers(100 millions)\")\n",
    "figure1.legend(['Domestic Passengers','International Passengers'])\n",
    "plt.grid()\n",
    "plt.xticks(rotation=25)\n",
    "plt.savefig(\"Output/int_dom2000_22.png\")\n",
    "plt.show()\n"
   ]
  },
  {
   "cell_type": "code",
   "execution_count": 72,
   "id": "0d41bb6c",
   "metadata": {},
   "outputs": [
    {
     "data": {
      "text/plain": [
       "Month\n",
       "1     232122.782609\n",
       "2     218357.913043\n",
       "3     250179.739130\n",
       "4     241183.347826\n",
       "5     230170.521739\n",
       "6     216383.304348\n",
       "7     240605.217391\n",
       "8     231426.608696\n",
       "9     231571.954545\n",
       "10    256129.181818\n",
       "11    239567.590909\n",
       "12    244182.954545\n",
       "Name: DOMESTIC_IN, dtype: float64"
      ]
     },
     "execution_count": 72,
     "metadata": {},
     "output_type": "execute_result"
    }
   ],
   "source": [
    "ade_dom_mon=ade_dom.groupby(['Month'])\n",
    "ade_dmon_tot=ade_dom_mon['DOMESTIC_IN'].mean()\n",
    "ade_dmon_tot"
   ]
  },
  {
   "cell_type": "code",
   "execution_count": 73,
   "id": "476ab356",
   "metadata": {},
   "outputs": [
    {
     "data": {
      "text/plain": [
       "Month\n",
       "1     29615.695652\n",
       "2     23473.478261\n",
       "3     21180.521739\n",
       "4     20043.521739\n",
       "5     18065.304348\n",
       "6     19288.391304\n",
       "7     26267.086957\n",
       "8     22836.652174\n",
       "9     23716.727273\n",
       "10    26724.863636\n",
       "11    21845.772727\n",
       "12    24081.590909\n",
       "Name: INTERNATIONAL_IN, dtype: float64"
      ]
     },
     "execution_count": 73,
     "metadata": {},
     "output_type": "execute_result"
    }
   ],
   "source": [
    "ade_int_mon=ade_int.groupby(['Month'])\n",
    "ade_imon_tot=ade_int_mon['INTERNATIONAL_IN'].mean()\n",
    "ade_imon_tot"
   ]
  },
  {
   "cell_type": "code",
   "execution_count": 74,
   "id": "72a76b17",
   "metadata": {},
   "outputs": [
    {
     "data": {
      "text/html": [
       "<div>\n",
       "<style scoped>\n",
       "    .dataframe tbody tr th:only-of-type {\n",
       "        vertical-align: middle;\n",
       "    }\n",
       "\n",
       "    .dataframe tbody tr th {\n",
       "        vertical-align: top;\n",
       "    }\n",
       "\n",
       "    .dataframe thead th {\n",
       "        text-align: right;\n",
       "    }\n",
       "</style>\n",
       "<table border=\"1\" class=\"dataframe\">\n",
       "  <thead>\n",
       "    <tr style=\"text-align: right;\">\n",
       "      <th></th>\n",
       "      <th>Domestic</th>\n",
       "      <th>International</th>\n",
       "    </tr>\n",
       "    <tr>\n",
       "      <th>Month</th>\n",
       "      <th></th>\n",
       "      <th></th>\n",
       "    </tr>\n",
       "  </thead>\n",
       "  <tbody>\n",
       "    <tr>\n",
       "      <th>1</th>\n",
       "      <td>232122.782609</td>\n",
       "      <td>29615.695652</td>\n",
       "    </tr>\n",
       "    <tr>\n",
       "      <th>2</th>\n",
       "      <td>218357.913043</td>\n",
       "      <td>23473.478261</td>\n",
       "    </tr>\n",
       "    <tr>\n",
       "      <th>3</th>\n",
       "      <td>250179.739130</td>\n",
       "      <td>21180.521739</td>\n",
       "    </tr>\n",
       "    <tr>\n",
       "      <th>4</th>\n",
       "      <td>241183.347826</td>\n",
       "      <td>20043.521739</td>\n",
       "    </tr>\n",
       "    <tr>\n",
       "      <th>5</th>\n",
       "      <td>230170.521739</td>\n",
       "      <td>18065.304348</td>\n",
       "    </tr>\n",
       "    <tr>\n",
       "      <th>6</th>\n",
       "      <td>216383.304348</td>\n",
       "      <td>19288.391304</td>\n",
       "    </tr>\n",
       "    <tr>\n",
       "      <th>7</th>\n",
       "      <td>240605.217391</td>\n",
       "      <td>26267.086957</td>\n",
       "    </tr>\n",
       "    <tr>\n",
       "      <th>8</th>\n",
       "      <td>231426.608696</td>\n",
       "      <td>22836.652174</td>\n",
       "    </tr>\n",
       "    <tr>\n",
       "      <th>9</th>\n",
       "      <td>231571.954545</td>\n",
       "      <td>23716.727273</td>\n",
       "    </tr>\n",
       "    <tr>\n",
       "      <th>10</th>\n",
       "      <td>256129.181818</td>\n",
       "      <td>26724.863636</td>\n",
       "    </tr>\n",
       "    <tr>\n",
       "      <th>11</th>\n",
       "      <td>239567.590909</td>\n",
       "      <td>21845.772727</td>\n",
       "    </tr>\n",
       "    <tr>\n",
       "      <th>12</th>\n",
       "      <td>244182.954545</td>\n",
       "      <td>24081.590909</td>\n",
       "    </tr>\n",
       "  </tbody>\n",
       "</table>\n",
       "</div>"
      ],
      "text/plain": [
       "            Domestic  International\n",
       "Month                              \n",
       "1      232122.782609   29615.695652\n",
       "2      218357.913043   23473.478261\n",
       "3      250179.739130   21180.521739\n",
       "4      241183.347826   20043.521739\n",
       "5      230170.521739   18065.304348\n",
       "6      216383.304348   19288.391304\n",
       "7      240605.217391   26267.086957\n",
       "8      231426.608696   22836.652174\n",
       "9      231571.954545   23716.727273\n",
       "10     256129.181818   26724.863636\n",
       "11     239567.590909   21845.772727\n",
       "12     244182.954545   24081.590909"
      ]
     },
     "execution_count": 74,
     "metadata": {},
     "output_type": "execute_result"
    }
   ],
   "source": [
    "compare_dom_int_ade=pd.DataFrame({'Domestic':ade_dmon_tot,\n",
    "                                 'International':ade_imon_tot})\n",
    "compare_dom_int_ade"
   ]
  },
  {
   "cell_type": "code",
   "execution_count": 75,
   "id": "49115f69",
   "metadata": {
    "scrolled": true
   },
   "outputs": [
    {
     "data": {
      "image/png": "[encoded data removed]",
      "text/plain": [
       "<Figure size 900x500 with 1 Axes>"
      ]
     },
     "metadata": {},
     "output_type": "display_data"
    }
   ],
   "source": [
    "fig1=compare_dom_int_ade.plot(kind='bar',color=['red','blue'],figsize=(9,5),title='Adelaide')\n",
    "fig1.set_xlabel('Month')\n",
    "fig1.set_ylabel('Total Number of Passengers')\n",
    "plt.show()"
   ]
  },
  {
   "cell_type": "code",
   "execution_count": 76,
   "id": "84b72a59",
   "metadata": {},
   "outputs": [
    {
     "data": {
      "text/plain": [
       "Domestic         256129.181818\n",
       "International     29615.695652\n",
       "dtype: float64"
      ]
     },
     "execution_count": 76,
     "metadata": {},
     "output_type": "execute_result"
    }
   ],
   "source": [
    "max_ade=compare_dom_int_ade[['Domestic','International']].max()\n",
    "max_ade"
   ]
  },
  {
   "cell_type": "code",
   "execution_count": 77,
   "id": "6c69e121",
   "metadata": {},
   "outputs": [],
   "source": [
    "bris_dom_mon=bris_dom.groupby(['Month'])\n",
    "bris_dmon_tot=bris_dom_mon['DOMESTIC_IN'].mean()\n",
    "bris_int_mon=bris_int.groupby(['Month'])\n",
    "bris_imon_tot=bris_int_mon['INTERNATIONAL_IN'].mean()\n"
   ]
  },
  {
   "cell_type": "code",
   "execution_count": 78,
   "id": "13c82112",
   "metadata": {},
   "outputs": [
    {
     "data": {
      "text/html": [
       "<div>\n",
       "<style scoped>\n",
       "    .dataframe tbody tr th:only-of-type {\n",
       "        vertical-align: middle;\n",
       "    }\n",
       "\n",
       "    .dataframe tbody tr th {\n",
       "        vertical-align: top;\n",
       "    }\n",
       "\n",
       "    .dataframe thead th {\n",
       "        text-align: right;\n",
       "    }\n",
       "</style>\n",
       "<table border=\"1\" class=\"dataframe\">\n",
       "  <thead>\n",
       "    <tr style=\"text-align: right;\">\n",
       "      <th></th>\n",
       "      <th>Domestic</th>\n",
       "      <th>International</th>\n",
       "    </tr>\n",
       "    <tr>\n",
       "      <th>Month</th>\n",
       "      <th></th>\n",
       "      <th></th>\n",
       "    </tr>\n",
       "  </thead>\n",
       "  <tbody>\n",
       "    <tr>\n",
       "      <th>1</th>\n",
       "      <td>548382.130435</td>\n",
       "      <td>193069.434783</td>\n",
       "    </tr>\n",
       "    <tr>\n",
       "      <th>2</th>\n",
       "      <td>493708.260870</td>\n",
       "      <td>151390.869565</td>\n",
       "    </tr>\n",
       "    <tr>\n",
       "      <th>3</th>\n",
       "      <td>562692.782609</td>\n",
       "      <td>148949.434783</td>\n",
       "    </tr>\n",
       "    <tr>\n",
       "      <th>4</th>\n",
       "      <td>554717.739130</td>\n",
       "      <td>149511.000000</td>\n",
       "    </tr>\n",
       "    <tr>\n",
       "      <th>5</th>\n",
       "      <td>546375.608696</td>\n",
       "      <td>137155.434783</td>\n",
       "    </tr>\n",
       "    <tr>\n",
       "      <th>6</th>\n",
       "      <td>543921.130435</td>\n",
       "      <td>147500.652174</td>\n",
       "    </tr>\n",
       "    <tr>\n",
       "      <th>7</th>\n",
       "      <td>610224.608696</td>\n",
       "      <td>189861.956522</td>\n",
       "    </tr>\n",
       "    <tr>\n",
       "      <th>8</th>\n",
       "      <td>573482.391304</td>\n",
       "      <td>161795.086957</td>\n",
       "    </tr>\n",
       "    <tr>\n",
       "      <th>9</th>\n",
       "      <td>585348.772727</td>\n",
       "      <td>166122.681818</td>\n",
       "    </tr>\n",
       "    <tr>\n",
       "      <th>10</th>\n",
       "      <td>609064.136364</td>\n",
       "      <td>180060.636364</td>\n",
       "    </tr>\n",
       "    <tr>\n",
       "      <th>11</th>\n",
       "      <td>572604.727273</td>\n",
       "      <td>152947.454545</td>\n",
       "    </tr>\n",
       "    <tr>\n",
       "      <th>12</th>\n",
       "      <td>610146.318182</td>\n",
       "      <td>171697.363636</td>\n",
       "    </tr>\n",
       "  </tbody>\n",
       "</table>\n",
       "</div>"
      ],
      "text/plain": [
       "            Domestic  International\n",
       "Month                              \n",
       "1      548382.130435  193069.434783\n",
       "2      493708.260870  151390.869565\n",
       "3      562692.782609  148949.434783\n",
       "4      554717.739130  149511.000000\n",
       "5      546375.608696  137155.434783\n",
       "6      543921.130435  147500.652174\n",
       "7      610224.608696  189861.956522\n",
       "8      573482.391304  161795.086957\n",
       "9      585348.772727  166122.681818\n",
       "10     609064.136364  180060.636364\n",
       "11     572604.727273  152947.454545\n",
       "12     610146.318182  171697.363636"
      ]
     },
     "execution_count": 78,
     "metadata": {},
     "output_type": "execute_result"
    }
   ],
   "source": [
    "compare_dom_int_bris=pd.DataFrame({'Domestic':bris_dmon_tot,\n",
    "                                 'International':bris_imon_tot})\n",
    "compare_dom_int_bris"
   ]
  },
  {
   "cell_type": "code",
   "execution_count": 79,
   "id": "ba72c83a",
   "metadata": {},
   "outputs": [
    {
     "data": {
      "image/png": "[encoded data removed]",
      "text/plain": [
       "<Figure size 900x500 with 1 Axes>"
      ]
     },
     "metadata": {},
     "output_type": "display_data"
    }
   ],
   "source": [
    "fig2=compare_dom_int_bris.plot(kind='bar',color=['red','blue'],figsize=(9,5),title='Brisbane')\n",
    "fig2.set_xlabel('Month')\n",
    "fig2.set_ylabel('Total Number of Passengers')\n",
    "plt.show()"
   ]
  },
  {
   "cell_type": "code",
   "execution_count": 80,
   "id": "8f200dc0",
   "metadata": {},
   "outputs": [
    {
     "data": {
      "text/plain": [
       "Domestic         610224.608696\n",
       "International    193069.434783\n",
       "dtype: float64"
      ]
     },
     "execution_count": 80,
     "metadata": {},
     "output_type": "execute_result"
    }
   ],
   "source": [
    "max_bris=compare_dom_int_bris[['Domestic','International']].max()\n",
    "max_bris"
   ]
  },
  {
   "cell_type": "code",
   "execution_count": 81,
   "id": "f9273e97",
   "metadata": {},
   "outputs": [
    {
     "data": {
      "text/plain": [
       "Month\n",
       "1     124450.0\n",
       "2     103363.0\n",
       "3     117051.0\n",
       "4     125958.0\n",
       "5     119486.0\n",
       "6     133615.0\n",
       "7     154302.0\n",
       "8     142753.0\n",
       "9     140527.0\n",
       "10    141358.0\n",
       "11    127720.0\n",
       "12    135678.0\n",
       "Name: DOMESTIC_IN, dtype: float64"
      ]
     },
     "execution_count": 81,
     "metadata": {},
     "output_type": "execute_result"
    }
   ],
   "source": [
    "cai_dom_mon=cai_dom.groupby(['Month'])\n",
    "cai_dmon_tot=cai_dom_mon['DOMESTIC_IN'].mean()\n",
    "cai_dmon_ave=round(cai_dmon_tot,0)\n",
    "cai_dmon_ave"
   ]
  },
  {
   "cell_type": "code",
   "execution_count": 82,
   "id": "3d2ea820",
   "metadata": {
    "scrolled": true
   },
   "outputs": [
    {
     "data": {
      "text/plain": [
       "Month\n",
       "1     25974.0\n",
       "2     23718.0\n",
       "3     23670.0\n",
       "4     20665.0\n",
       "5     18573.0\n",
       "6     20479.0\n",
       "7     26025.0\n",
       "8     26373.0\n",
       "9     24456.0\n",
       "10    26338.0\n",
       "11    23962.0\n",
       "12    25226.0\n",
       "Name: INTERNATIONAL_IN, dtype: float64"
      ]
     },
     "execution_count": 82,
     "metadata": {},
     "output_type": "execute_result"
    }
   ],
   "source": [
    "cai_int_mon=cai_int.groupby(['Month'])\n",
    "cai_imon_tot=cai_int_mon['INTERNATIONAL_IN'].mean()\n",
    "cai_imon_ave=round(cai_imon_tot,0)\n",
    "cai_imon_ave"
   ]
  },
  {
   "cell_type": "code",
   "execution_count": 83,
   "id": "9af3e840",
   "metadata": {},
   "outputs": [
    {
     "data": {
      "image/png": "[encoded data removed]",
      "text/plain": [
       "<Figure size 900x700 with 1 Axes>"
      ]
     },
     "metadata": {},
     "output_type": "display_data"
    }
   ],
   "source": [
    "months=['January','February','March','April','May','June','July','August','September','October','November','December'] \n",
    "plt.bar(months,cai_dmon_ave,color='darkorange',label='Domestic') \n",
    "plt.bar(months,cai_imon_ave,color='dodgerblue',label='International') \n",
    "plt.xticks(rotation=45) \n",
    "plt.title(\"Monthly Average Number of Domestic and International Passengers from 2000-2022 at Cairns Airport\") \n",
    "plt.xlabel('Months') \n",
    "plt.ylabel('Total Number of Passengers') \n",
    "plt.legend()\n",
    "plt.savefig(\"Output/cai_int_dom.png\")\n",
    "plt.rcParams['figure.figsize'] = [9, 7]\n",
    "\n",
    "plt.show()"
   ]
  },
  {
   "cell_type": "code",
   "execution_count": 84,
   "id": "ce5ecb20",
   "metadata": {},
   "outputs": [
    {
     "data": {
      "text/html": [
       "<div>\n",
       "<style scoped>\n",
       "    .dataframe tbody tr th:only-of-type {\n",
       "        vertical-align: middle;\n",
       "    }\n",
       "\n",
       "    .dataframe tbody tr th {\n",
       "        vertical-align: top;\n",
       "    }\n",
       "\n",
       "    .dataframe thead th {\n",
       "        text-align: right;\n",
       "    }\n",
       "</style>\n",
       "<table border=\"1\" class=\"dataframe\">\n",
       "  <thead>\n",
       "    <tr style=\"text-align: right;\">\n",
       "      <th></th>\n",
       "      <th>Domestic</th>\n",
       "      <th>International</th>\n",
       "    </tr>\n",
       "    <tr>\n",
       "      <th>Month</th>\n",
       "      <th></th>\n",
       "      <th></th>\n",
       "    </tr>\n",
       "  </thead>\n",
       "  <tbody>\n",
       "    <tr>\n",
       "      <th>1</th>\n",
       "      <td>124450.0</td>\n",
       "      <td>25974.0</td>\n",
       "    </tr>\n",
       "    <tr>\n",
       "      <th>2</th>\n",
       "      <td>103363.0</td>\n",
       "      <td>23718.0</td>\n",
       "    </tr>\n",
       "    <tr>\n",
       "      <th>3</th>\n",
       "      <td>117051.0</td>\n",
       "      <td>23670.0</td>\n",
       "    </tr>\n",
       "    <tr>\n",
       "      <th>4</th>\n",
       "      <td>125958.0</td>\n",
       "      <td>20665.0</td>\n",
       "    </tr>\n",
       "    <tr>\n",
       "      <th>5</th>\n",
       "      <td>119486.0</td>\n",
       "      <td>18573.0</td>\n",
       "    </tr>\n",
       "    <tr>\n",
       "      <th>6</th>\n",
       "      <td>133615.0</td>\n",
       "      <td>20479.0</td>\n",
       "    </tr>\n",
       "    <tr>\n",
       "      <th>7</th>\n",
       "      <td>154302.0</td>\n",
       "      <td>26025.0</td>\n",
       "    </tr>\n",
       "    <tr>\n",
       "      <th>8</th>\n",
       "      <td>142753.0</td>\n",
       "      <td>26373.0</td>\n",
       "    </tr>\n",
       "    <tr>\n",
       "      <th>9</th>\n",
       "      <td>140527.0</td>\n",
       "      <td>24456.0</td>\n",
       "    </tr>\n",
       "    <tr>\n",
       "      <th>10</th>\n",
       "      <td>141358.0</td>\n",
       "      <td>26338.0</td>\n",
       "    </tr>\n",
       "    <tr>\n",
       "      <th>11</th>\n",
       "      <td>127720.0</td>\n",
       "      <td>23962.0</td>\n",
       "    </tr>\n",
       "    <tr>\n",
       "      <th>12</th>\n",
       "      <td>135678.0</td>\n",
       "      <td>25226.0</td>\n",
       "    </tr>\n",
       "  </tbody>\n",
       "</table>\n",
       "</div>"
      ],
      "text/plain": [
       "       Domestic  International\n",
       "Month                         \n",
       "1      124450.0        25974.0\n",
       "2      103363.0        23718.0\n",
       "3      117051.0        23670.0\n",
       "4      125958.0        20665.0\n",
       "5      119486.0        18573.0\n",
       "6      133615.0        20479.0\n",
       "7      154302.0        26025.0\n",
       "8      142753.0        26373.0\n",
       "9      140527.0        24456.0\n",
       "10     141358.0        26338.0\n",
       "11     127720.0        23962.0\n",
       "12     135678.0        25226.0"
      ]
     },
     "execution_count": 84,
     "metadata": {},
     "output_type": "execute_result"
    }
   ],
   "source": [
    "compare_dom_int_cai=pd.DataFrame({'Domestic':cai_dmon_ave,\n",
    "                                 'International':cai_imon_ave})\n",
    "compare_dom_int_cai"
   ]
  },
  {
   "cell_type": "code",
   "execution_count": 85,
   "id": "2ae0cdbe",
   "metadata": {},
   "outputs": [
    {
     "data": {
      "text/plain": [
       "Domestic         154302.0\n",
       "International     26373.0\n",
       "dtype: float64"
      ]
     },
     "execution_count": 85,
     "metadata": {},
     "output_type": "execute_result"
    }
   ],
   "source": [
    "max_cai=compare_dom_int_cai[['Domestic','International']].max()\n",
    "max_cai"
   ]
  },
  {
   "cell_type": "code",
   "execution_count": 86,
   "id": "522e3ee7",
   "metadata": {},
   "outputs": [
    {
     "data": {
      "image/png": "[encoded data removed]",
      "text/plain": [
       "<Figure size 900x500 with 1 Axes>"
      ]
     },
     "metadata": {},
     "output_type": "display_data"
    }
   ],
   "source": [
    "fig2=compare_dom_int_cai.plot(kind='bar',color=['darkorange','dodgerblue'],figsize=(9,5),title='Cairns')\n",
    "fig2.set_xlabel('Month')\n",
    "fig2.set_ylabel('Total Number of Passengers (millions)')\n",
    "plt.show()"
   ]
  },
  {
   "cell_type": "code",
   "execution_count": 87,
   "id": "dba25d4a",
   "metadata": {},
   "outputs": [
    {
     "data": {
      "text/plain": [
       "Month\n",
       "1     52138.0\n",
       "2     39593.0\n",
       "3     48971.0\n",
       "4     54730.0\n",
       "5     58355.0\n",
       "6     65597.0\n",
       "7     73273.0\n",
       "8     66480.0\n",
       "9     60889.0\n",
       "10    58182.0\n",
       "11    49528.0\n",
       "12    47568.0\n",
       "Name: DOMESTIC_IN, dtype: float64"
      ]
     },
     "execution_count": 87,
     "metadata": {},
     "output_type": "execute_result"
    }
   ],
   "source": [
    "dar_dom_mon=dar_dom.groupby(['Month'])\n",
    "dar_dmon_tot=dar_dom_mon['DOMESTIC_IN'].mean()\n",
    "dar_dmon_ave=round(dar_dmon_tot,0)\n",
    "dar_dmon_ave"
   ]
  },
  {
   "cell_type": "code",
   "execution_count": 88,
   "id": "9a354964",
   "metadata": {},
   "outputs": [
    {
     "data": {
      "text/plain": [
       "Month\n",
       "1     10554.0\n",
       "2      6852.0\n",
       "3      6476.0\n",
       "4      7055.0\n",
       "5      7053.0\n",
       "6      7480.0\n",
       "7     10626.0\n",
       "8      8558.0\n",
       "9      8516.0\n",
       "10     9138.0\n",
       "11     7056.0\n",
       "12     6161.0\n",
       "Name: INTERNATIONAL_IN, dtype: float64"
      ]
     },
     "execution_count": 88,
     "metadata": {},
     "output_type": "execute_result"
    }
   ],
   "source": [
    "dar_int_mon=dar_int.groupby(['Month'])\n",
    "dar_imon_tot=dar_int_mon['INTERNATIONAL_IN'].mean()\n",
    "dar_imon_ave=round(dar_imon_tot,0)\n",
    "dar_imon_ave"
   ]
  },
  {
   "cell_type": "code",
   "execution_count": 89,
   "id": "f2a5ff4d",
   "metadata": {},
   "outputs": [
    {
     "data": {
      "image/png": "[encoded data removed]",
      "text/plain": [
       "<Figure size 900x700 with 1 Axes>"
      ]
     },
     "metadata": {},
     "output_type": "display_data"
    }
   ],
   "source": [
    "months=['January','February','March','April','May','June','July','August','September','October','November','December']\n",
    "plt.bar(months,dar_dmon_ave,color='darkorange',label='Domestic')\n",
    "plt.bar(months,dar_imon_ave,color='dodgerblue',label='International')\n",
    "plt.xticks(rotation=45)\n",
    "plt.title(\"Monthly Average Number of Domestic and International Passengers from 2000-2022 at Darwin Airport\")\n",
    "plt.xlabel('Months')\n",
    "plt.ylabel('Total Number of Passengers')\n",
    "plt.legend()\n",
    "plt.rcParams['figure.figsize'] = [9, 7]\n",
    "plt.savefig('Output/dar_int_dom.png')\n",
    "\n",
    "plt.show()"
   ]
  },
  {
   "cell_type": "code",
   "execution_count": 90,
   "id": "4f854eb1",
   "metadata": {},
   "outputs": [
    {
     "data": {
      "text/html": [
       "<div>\n",
       "<style scoped>\n",
       "    .dataframe tbody tr th:only-of-type {\n",
       "        vertical-align: middle;\n",
       "    }\n",
       "\n",
       "    .dataframe tbody tr th {\n",
       "        vertical-align: top;\n",
       "    }\n",
       "\n",
       "    .dataframe thead th {\n",
       "        text-align: right;\n",
       "    }\n",
       "</style>\n",
       "<table border=\"1\" class=\"dataframe\">\n",
       "  <thead>\n",
       "    <tr style=\"text-align: right;\">\n",
       "      <th></th>\n",
       "      <th>Domestic</th>\n",
       "      <th>International</th>\n",
       "    </tr>\n",
       "    <tr>\n",
       "      <th>Month</th>\n",
       "      <th></th>\n",
       "      <th></th>\n",
       "    </tr>\n",
       "  </thead>\n",
       "  <tbody>\n",
       "    <tr>\n",
       "      <th>1</th>\n",
       "      <td>52138.0</td>\n",
       "      <td>10554.0</td>\n",
       "    </tr>\n",
       "    <tr>\n",
       "      <th>2</th>\n",
       "      <td>39593.0</td>\n",
       "      <td>6852.0</td>\n",
       "    </tr>\n",
       "    <tr>\n",
       "      <th>3</th>\n",
       "      <td>48971.0</td>\n",
       "      <td>6476.0</td>\n",
       "    </tr>\n",
       "    <tr>\n",
       "      <th>4</th>\n",
       "      <td>54730.0</td>\n",
       "      <td>7055.0</td>\n",
       "    </tr>\n",
       "    <tr>\n",
       "      <th>5</th>\n",
       "      <td>58355.0</td>\n",
       "      <td>7053.0</td>\n",
       "    </tr>\n",
       "    <tr>\n",
       "      <th>6</th>\n",
       "      <td>65597.0</td>\n",
       "      <td>7480.0</td>\n",
       "    </tr>\n",
       "    <tr>\n",
       "      <th>7</th>\n",
       "      <td>73273.0</td>\n",
       "      <td>10626.0</td>\n",
       "    </tr>\n",
       "    <tr>\n",
       "      <th>8</th>\n",
       "      <td>66480.0</td>\n",
       "      <td>8558.0</td>\n",
       "    </tr>\n",
       "    <tr>\n",
       "      <th>9</th>\n",
       "      <td>60889.0</td>\n",
       "      <td>8516.0</td>\n",
       "    </tr>\n",
       "    <tr>\n",
       "      <th>10</th>\n",
       "      <td>58182.0</td>\n",
       "      <td>9138.0</td>\n",
       "    </tr>\n",
       "    <tr>\n",
       "      <th>11</th>\n",
       "      <td>49528.0</td>\n",
       "      <td>7056.0</td>\n",
       "    </tr>\n",
       "    <tr>\n",
       "      <th>12</th>\n",
       "      <td>47568.0</td>\n",
       "      <td>6161.0</td>\n",
       "    </tr>\n",
       "  </tbody>\n",
       "</table>\n",
       "</div>"
      ],
      "text/plain": [
       "       Domestic  International\n",
       "Month                         \n",
       "1       52138.0        10554.0\n",
       "2       39593.0         6852.0\n",
       "3       48971.0         6476.0\n",
       "4       54730.0         7055.0\n",
       "5       58355.0         7053.0\n",
       "6       65597.0         7480.0\n",
       "7       73273.0        10626.0\n",
       "8       66480.0         8558.0\n",
       "9       60889.0         8516.0\n",
       "10      58182.0         9138.0\n",
       "11      49528.0         7056.0\n",
       "12      47568.0         6161.0"
      ]
     },
     "execution_count": 90,
     "metadata": {},
     "output_type": "execute_result"
    }
   ],
   "source": [
    "compare_dom_int_dar=pd.DataFrame({'Domestic':dar_dmon_ave,\n",
    "                                 'International':dar_imon_ave})\n",
    "compare_dom_int_dar"
   ]
  },
  {
   "cell_type": "code",
   "execution_count": 91,
   "id": "bcf0682f",
   "metadata": {},
   "outputs": [
    {
     "data": {
      "text/plain": [
       "Domestic         73273.0\n",
       "International    10626.0\n",
       "dtype: float64"
      ]
     },
     "execution_count": 91,
     "metadata": {},
     "output_type": "execute_result"
    }
   ],
   "source": [
    "max_dar=compare_dom_int_dar[['Domestic','International']].max()\n",
    "max_dar"
   ]
  },
  {
   "cell_type": "code",
   "execution_count": 92,
   "id": "29be4e16",
   "metadata": {},
   "outputs": [
    {
     "data": {
      "image/png": "[encoded data removed]",
      "text/plain": [
       "<Figure size 900x500 with 1 Axes>"
      ]
     },
     "metadata": {},
     "output_type": "display_data"
    }
   ],
   "source": [
    "fig3=compare_dom_int_dar.plot(kind='bar',color=['darkorange','dodgerblue'],figsize=(9,5),title='Darwin')\n",
    "fig3.set_xlabel('Month')\n",
    "fig3.set_ylabel('Total Number of Passengers (millions)')\n",
    "plt.show()"
   ]
  },
  {
   "cell_type": "code",
   "execution_count": 93,
   "id": "02e70b4b",
   "metadata": {},
   "outputs": [],
   "source": [
    "gld_dom_mon=gld_dom.groupby(['Month'])\n",
    "gld_dmon_tot=gld_dom_mon['DOMESTIC_IN'].mean()\n",
    "gld_int_mon=gld_int.groupby(['Month'])\n",
    "gld_imon_tot=gld_int_mon['INTERNATIONAL_IN'].mean()\n"
   ]
  },
  {
   "cell_type": "code",
   "execution_count": 94,
   "id": "2aca1840",
   "metadata": {},
   "outputs": [
    {
     "data": {
      "text/html": [
       "<div>\n",
       "<style scoped>\n",
       "    .dataframe tbody tr th:only-of-type {\n",
       "        vertical-align: middle;\n",
       "    }\n",
       "\n",
       "    .dataframe tbody tr th {\n",
       "        vertical-align: top;\n",
       "    }\n",
       "\n",
       "    .dataframe thead th {\n",
       "        text-align: right;\n",
       "    }\n",
       "</style>\n",
       "<table border=\"1\" class=\"dataframe\">\n",
       "  <thead>\n",
       "    <tr style=\"text-align: right;\">\n",
       "      <th></th>\n",
       "      <th>Domestic</th>\n",
       "      <th>International</th>\n",
       "    </tr>\n",
       "    <tr>\n",
       "      <th>Month</th>\n",
       "      <th></th>\n",
       "      <th></th>\n",
       "    </tr>\n",
       "  </thead>\n",
       "  <tbody>\n",
       "    <tr>\n",
       "      <th>1</th>\n",
       "      <td>183312.478261</td>\n",
       "      <td>26516.608696</td>\n",
       "    </tr>\n",
       "    <tr>\n",
       "      <th>2</th>\n",
       "      <td>144162.043478</td>\n",
       "      <td>20567.304348</td>\n",
       "    </tr>\n",
       "    <tr>\n",
       "      <th>3</th>\n",
       "      <td>161931.217391</td>\n",
       "      <td>21080.608696</td>\n",
       "    </tr>\n",
       "    <tr>\n",
       "      <th>4</th>\n",
       "      <td>161742.652174</td>\n",
       "      <td>20364.565217</td>\n",
       "    </tr>\n",
       "    <tr>\n",
       "      <th>5</th>\n",
       "      <td>145032.086957</td>\n",
       "      <td>18211.130435</td>\n",
       "    </tr>\n",
       "    <tr>\n",
       "      <th>6</th>\n",
       "      <td>144625.086957</td>\n",
       "      <td>18434.173913</td>\n",
       "    </tr>\n",
       "    <tr>\n",
       "      <th>7</th>\n",
       "      <td>165183.826087</td>\n",
       "      <td>24557.695652</td>\n",
       "    </tr>\n",
       "    <tr>\n",
       "      <th>8</th>\n",
       "      <td>151351.652174</td>\n",
       "      <td>21651.565217</td>\n",
       "    </tr>\n",
       "    <tr>\n",
       "      <th>9</th>\n",
       "      <td>161348.454545</td>\n",
       "      <td>20881.045455</td>\n",
       "    </tr>\n",
       "    <tr>\n",
       "      <th>10</th>\n",
       "      <td>165994.500000</td>\n",
       "      <td>22856.090909</td>\n",
       "    </tr>\n",
       "    <tr>\n",
       "      <th>11</th>\n",
       "      <td>152791.136364</td>\n",
       "      <td>20091.090909</td>\n",
       "    </tr>\n",
       "    <tr>\n",
       "      <th>12</th>\n",
       "      <td>177281.681818</td>\n",
       "      <td>23405.318182</td>\n",
       "    </tr>\n",
       "  </tbody>\n",
       "</table>\n",
       "</div>"
      ],
      "text/plain": [
       "            Domestic  International\n",
       "Month                              \n",
       "1      183312.478261   26516.608696\n",
       "2      144162.043478   20567.304348\n",
       "3      161931.217391   21080.608696\n",
       "4      161742.652174   20364.565217\n",
       "5      145032.086957   18211.130435\n",
       "6      144625.086957   18434.173913\n",
       "7      165183.826087   24557.695652\n",
       "8      151351.652174   21651.565217\n",
       "9      161348.454545   20881.045455\n",
       "10     165994.500000   22856.090909\n",
       "11     152791.136364   20091.090909\n",
       "12     177281.681818   23405.318182"
      ]
     },
     "execution_count": 94,
     "metadata": {},
     "output_type": "execute_result"
    }
   ],
   "source": [
    "compare_dom_int_gld=pd.DataFrame({'Domestic':gld_dmon_tot,\n",
    "                                 'International':gld_imon_tot})\n",
    "compare_dom_int_gld"
   ]
  },
  {
   "cell_type": "code",
   "execution_count": 95,
   "id": "cc924ebd",
   "metadata": {},
   "outputs": [
    {
     "data": {
      "image/png": "[encoded data removed]",
      "text/plain": [
       "<Figure size 900x500 with 1 Axes>"
      ]
     },
     "metadata": {},
     "output_type": "display_data"
    }
   ],
   "source": [
    "fig4=compare_dom_int_gld.plot(kind='bar',color=['red','blue'],figsize=(9,5),title='Gold Coast')\n",
    "fig4.set_xlabel('Month')\n",
    "fig4.set_ylabel('Total Number of Passengers')\n",
    "plt.show()"
   ]
  },
  {
   "cell_type": "code",
   "execution_count": 96,
   "id": "6023ac0b",
   "metadata": {},
   "outputs": [
    {
     "data": {
      "text/plain": [
       "Domestic         183312.478261\n",
       "International     26516.608696\n",
       "dtype: float64"
      ]
     },
     "execution_count": 96,
     "metadata": {},
     "output_type": "execute_result"
    }
   ],
   "source": [
    "max_gld=compare_dom_int_gld[['Domestic','International']].max()\n",
    "max_gld"
   ]
  },
  {
   "cell_type": "code",
   "execution_count": 97,
   "id": "a7a75666",
   "metadata": {},
   "outputs": [],
   "source": [
    "melb_dom_mon=melb_dom.groupby(['Month'])\n",
    "melb_dmon_tot=melb_dom_mon['DOMESTIC_IN'].mean()\n",
    "melb_int_mon=melb_int.groupby(['Month'])\n",
    "melb_imon_tot=melb_int_mon['INTERNATIONAL_IN'].mean()\n"
   ]
  },
  {
   "cell_type": "code",
   "execution_count": 98,
   "id": "8390782f",
   "metadata": {},
   "outputs": [
    {
     "data": {
      "text/html": [
       "<div>\n",
       "<style scoped>\n",
       "    .dataframe tbody tr th:only-of-type {\n",
       "        vertical-align: middle;\n",
       "    }\n",
       "\n",
       "    .dataframe tbody tr th {\n",
       "        vertical-align: top;\n",
       "    }\n",
       "\n",
       "    .dataframe thead th {\n",
       "        text-align: right;\n",
       "    }\n",
       "</style>\n",
       "<table border=\"1\" class=\"dataframe\">\n",
       "  <thead>\n",
       "    <tr style=\"text-align: right;\">\n",
       "      <th></th>\n",
       "      <th>Domestic</th>\n",
       "      <th>International</th>\n",
       "    </tr>\n",
       "    <tr>\n",
       "      <th>Month</th>\n",
       "      <th></th>\n",
       "      <th></th>\n",
       "    </tr>\n",
       "  </thead>\n",
       "  <tbody>\n",
       "    <tr>\n",
       "      <th>1</th>\n",
       "      <td>822607.826087</td>\n",
       "      <td>302926.739130</td>\n",
       "    </tr>\n",
       "    <tr>\n",
       "      <th>2</th>\n",
       "      <td>725100.652174</td>\n",
       "      <td>252214.956522</td>\n",
       "    </tr>\n",
       "    <tr>\n",
       "      <th>3</th>\n",
       "      <td>812305.565217</td>\n",
       "      <td>231903.000000</td>\n",
       "    </tr>\n",
       "    <tr>\n",
       "      <th>4</th>\n",
       "      <td>788412.739130</td>\n",
       "      <td>221828.652174</td>\n",
       "    </tr>\n",
       "    <tr>\n",
       "      <th>5</th>\n",
       "      <td>745197.521739</td>\n",
       "      <td>195529.434783</td>\n",
       "    </tr>\n",
       "    <tr>\n",
       "      <th>6</th>\n",
       "      <td>701663.434783</td>\n",
       "      <td>204589.521739</td>\n",
       "    </tr>\n",
       "    <tr>\n",
       "      <th>7</th>\n",
       "      <td>805698.304348</td>\n",
       "      <td>274635.043478</td>\n",
       "    </tr>\n",
       "    <tr>\n",
       "      <th>8</th>\n",
       "      <td>762596.782609</td>\n",
       "      <td>231899.043478</td>\n",
       "    </tr>\n",
       "    <tr>\n",
       "      <th>9</th>\n",
       "      <td>760459.000000</td>\n",
       "      <td>239195.090909</td>\n",
       "    </tr>\n",
       "    <tr>\n",
       "      <th>10</th>\n",
       "      <td>817161.590909</td>\n",
       "      <td>269496.681818</td>\n",
       "    </tr>\n",
       "    <tr>\n",
       "      <th>11</th>\n",
       "      <td>795176.681818</td>\n",
       "      <td>237314.318182</td>\n",
       "    </tr>\n",
       "    <tr>\n",
       "      <th>12</th>\n",
       "      <td>804741.954545</td>\n",
       "      <td>260575.590909</td>\n",
       "    </tr>\n",
       "  </tbody>\n",
       "</table>\n",
       "</div>"
      ],
      "text/plain": [
       "            Domestic  International\n",
       "Month                              \n",
       "1      822607.826087  302926.739130\n",
       "2      725100.652174  252214.956522\n",
       "3      812305.565217  231903.000000\n",
       "4      788412.739130  221828.652174\n",
       "5      745197.521739  195529.434783\n",
       "6      701663.434783  204589.521739\n",
       "7      805698.304348  274635.043478\n",
       "8      762596.782609  231899.043478\n",
       "9      760459.000000  239195.090909\n",
       "10     817161.590909  269496.681818\n",
       "11     795176.681818  237314.318182\n",
       "12     804741.954545  260575.590909"
      ]
     },
     "execution_count": 98,
     "metadata": {},
     "output_type": "execute_result"
    }
   ],
   "source": [
    "compare_dom_int_melb=pd.DataFrame({'Domestic':melb_dmon_tot,\n",
    "                                 'International':melb_imon_tot})\n",
    "compare_dom_int_melb"
   ]
  },
  {
   "cell_type": "code",
   "execution_count": 99,
   "id": "80dd5c94",
   "metadata": {},
   "outputs": [
    {
     "data": {
      "image/png": "[encoded data removed]",
      "text/plain": [
       "<Figure size 900x500 with 1 Axes>"
      ]
     },
     "metadata": {},
     "output_type": "display_data"
    }
   ],
   "source": [
    "fig4=compare_dom_int_melb.plot(kind='bar',color=['red','blue'],figsize=(9,5),title='Melbourne')\n",
    "fig4.set_xlabel('Month')\n",
    "fig4.set_ylabel('Total Number of Passengers')\n",
    "plt.show()"
   ]
  },
  {
   "cell_type": "code",
   "execution_count": 100,
   "id": "87f2675c",
   "metadata": {},
   "outputs": [
    {
     "data": {
      "text/plain": [
       "Domestic         822607.826087\n",
       "International    302926.739130\n",
       "dtype: float64"
      ]
     },
     "execution_count": 100,
     "metadata": {},
     "output_type": "execute_result"
    }
   ],
   "source": [
    "max_melb=compare_dom_int_melb[['Domestic','International']].max()\n",
    "max_melb"
   ]
  },
  {
   "cell_type": "code",
   "execution_count": 101,
   "id": "0f9ddaa1",
   "metadata": {},
   "outputs": [],
   "source": [
    "perth_dom_mon=perth_dom.groupby(['Month'])\n",
    "perth_dmon_tot=perth_dom_mon['DOMESTIC_IN'].mean()\n",
    "perth_int_mon=perth_int.groupby(['Month'])\n",
    "perth_imon_tot=perth_int_mon['INTERNATIONAL_IN'].mean()\n"
   ]
  },
  {
   "cell_type": "code",
   "execution_count": 102,
   "id": "4d7cd810",
   "metadata": {},
   "outputs": [
    {
     "data": {
      "text/html": [
       "<div>\n",
       "<style scoped>\n",
       "    .dataframe tbody tr th:only-of-type {\n",
       "        vertical-align: middle;\n",
       "    }\n",
       "\n",
       "    .dataframe tbody tr th {\n",
       "        vertical-align: top;\n",
       "    }\n",
       "\n",
       "    .dataframe thead th {\n",
       "        text-align: right;\n",
       "    }\n",
       "</style>\n",
       "<table border=\"1\" class=\"dataframe\">\n",
       "  <thead>\n",
       "    <tr style=\"text-align: right;\">\n",
       "      <th></th>\n",
       "      <th>Domestic</th>\n",
       "      <th>International</th>\n",
       "    </tr>\n",
       "    <tr>\n",
       "      <th>Month</th>\n",
       "      <th></th>\n",
       "      <th></th>\n",
       "    </tr>\n",
       "  </thead>\n",
       "  <tbody>\n",
       "    <tr>\n",
       "      <th>1</th>\n",
       "      <td>257995.782609</td>\n",
       "      <td>147784.869565</td>\n",
       "    </tr>\n",
       "    <tr>\n",
       "      <th>2</th>\n",
       "      <td>225993.086957</td>\n",
       "      <td>113618.913043</td>\n",
       "    </tr>\n",
       "    <tr>\n",
       "      <th>3</th>\n",
       "      <td>266023.869565</td>\n",
       "      <td>106738.434783</td>\n",
       "    </tr>\n",
       "    <tr>\n",
       "      <th>4</th>\n",
       "      <td>261588.913043</td>\n",
       "      <td>104374.695652</td>\n",
       "    </tr>\n",
       "    <tr>\n",
       "      <th>5</th>\n",
       "      <td>252567.869565</td>\n",
       "      <td>92089.086957</td>\n",
       "    </tr>\n",
       "    <tr>\n",
       "      <th>6</th>\n",
       "      <td>245303.086957</td>\n",
       "      <td>96811.173913</td>\n",
       "    </tr>\n",
       "    <tr>\n",
       "      <th>7</th>\n",
       "      <td>270863.217391</td>\n",
       "      <td>129771.565217</td>\n",
       "    </tr>\n",
       "    <tr>\n",
       "      <th>8</th>\n",
       "      <td>260829.434783</td>\n",
       "      <td>109735.695652</td>\n",
       "    </tr>\n",
       "    <tr>\n",
       "      <th>9</th>\n",
       "      <td>262873.727273</td>\n",
       "      <td>115927.136364</td>\n",
       "    </tr>\n",
       "    <tr>\n",
       "      <th>10</th>\n",
       "      <td>281236.363636</td>\n",
       "      <td>134439.590909</td>\n",
       "    </tr>\n",
       "    <tr>\n",
       "      <th>11</th>\n",
       "      <td>264886.772727</td>\n",
       "      <td>111119.045455</td>\n",
       "    </tr>\n",
       "    <tr>\n",
       "      <th>12</th>\n",
       "      <td>277393.636364</td>\n",
       "      <td>121198.590909</td>\n",
       "    </tr>\n",
       "  </tbody>\n",
       "</table>\n",
       "</div>"
      ],
      "text/plain": [
       "            Domestic  International\n",
       "Month                              \n",
       "1      257995.782609  147784.869565\n",
       "2      225993.086957  113618.913043\n",
       "3      266023.869565  106738.434783\n",
       "4      261588.913043  104374.695652\n",
       "5      252567.869565   92089.086957\n",
       "6      245303.086957   96811.173913\n",
       "7      270863.217391  129771.565217\n",
       "8      260829.434783  109735.695652\n",
       "9      262873.727273  115927.136364\n",
       "10     281236.363636  134439.590909\n",
       "11     264886.772727  111119.045455\n",
       "12     277393.636364  121198.590909"
      ]
     },
     "execution_count": 102,
     "metadata": {},
     "output_type": "execute_result"
    }
   ],
   "source": [
    "compare_dom_int_perth=pd.DataFrame({'Domestic':perth_dmon_tot,\n",
    "                                 'International':perth_imon_tot})\n",
    "compare_dom_int_perth"
   ]
  },
  {
   "cell_type": "code",
   "execution_count": 103,
   "id": "81aa312d",
   "metadata": {},
   "outputs": [
    {
     "data": {
      "image/png": "[encoded data removed]",
      "text/plain": [
       "<Figure size 900x500 with 1 Axes>"
      ]
     },
     "metadata": {},
     "output_type": "display_data"
    }
   ],
   "source": [
    "fig4=compare_dom_int_perth.plot(kind='bar',color=['red','blue'],figsize=(9,5),title='Perth')\n",
    "fig4.set_xlabel('Month')\n",
    "fig4.set_ylabel('Total Number of Passengers')\n",
    "plt.show()"
   ]
  },
  {
   "cell_type": "code",
   "execution_count": 104,
   "id": "7d3f7a55",
   "metadata": {},
   "outputs": [
    {
     "data": {
      "text/plain": [
       "Domestic         281236.363636\n",
       "International    147784.869565\n",
       "dtype: float64"
      ]
     },
     "execution_count": 104,
     "metadata": {},
     "output_type": "execute_result"
    }
   ],
   "source": [
    "max_perth=compare_dom_int_perth[['Domestic','International']].max()\n",
    "max_perth"
   ]
  },
  {
   "cell_type": "code",
   "execution_count": 105,
   "id": "be7b25d9",
   "metadata": {},
   "outputs": [],
   "source": [
    "syd_dom_mon=syd_dom.groupby(['Month'])\n",
    "syd_dmon_tot=syd_dom_mon['DOMESTIC_IN'].mean()\n",
    "syd_int_mon=syd_int.groupby(['Month'])\n",
    "syd_imon_tot=syd_int_mon['INTERNATIONAL_IN'].mean()\n"
   ]
  },
  {
   "cell_type": "code",
   "execution_count": 106,
   "id": "94967168",
   "metadata": {},
   "outputs": [
    {
     "data": {
      "text/html": [
       "<div>\n",
       "<style scoped>\n",
       "    .dataframe tbody tr th:only-of-type {\n",
       "        vertical-align: middle;\n",
       "    }\n",
       "\n",
       "    .dataframe tbody tr th {\n",
       "        vertical-align: top;\n",
       "    }\n",
       "\n",
       "    .dataframe thead th {\n",
       "        text-align: right;\n",
       "    }\n",
       "</style>\n",
       "<table border=\"1\" class=\"dataframe\">\n",
       "  <thead>\n",
       "    <tr style=\"text-align: right;\">\n",
       "      <th></th>\n",
       "      <th>Domestic</th>\n",
       "      <th>International</th>\n",
       "    </tr>\n",
       "    <tr>\n",
       "      <th>Month</th>\n",
       "      <th></th>\n",
       "      <th></th>\n",
       "    </tr>\n",
       "  </thead>\n",
       "  <tbody>\n",
       "    <tr>\n",
       "      <th>1</th>\n",
       "      <td>869819.260870</td>\n",
       "      <td>562410.695652</td>\n",
       "    </tr>\n",
       "    <tr>\n",
       "      <th>2</th>\n",
       "      <td>817349.391304</td>\n",
       "      <td>450702.391304</td>\n",
       "    </tr>\n",
       "    <tr>\n",
       "      <th>3</th>\n",
       "      <td>913955.869565</td>\n",
       "      <td>421561.478261</td>\n",
       "    </tr>\n",
       "    <tr>\n",
       "      <th>4</th>\n",
       "      <td>880096.130435</td>\n",
       "      <td>412033.217391</td>\n",
       "    </tr>\n",
       "    <tr>\n",
       "      <th>5</th>\n",
       "      <td>846698.782609</td>\n",
       "      <td>364496.521739</td>\n",
       "    </tr>\n",
       "    <tr>\n",
       "      <th>6</th>\n",
       "      <td>812377.565217</td>\n",
       "      <td>372869.782609</td>\n",
       "    </tr>\n",
       "    <tr>\n",
       "      <th>7</th>\n",
       "      <td>885586.347826</td>\n",
       "      <td>496610.434783</td>\n",
       "    </tr>\n",
       "    <tr>\n",
       "      <th>8</th>\n",
       "      <td>867566.608696</td>\n",
       "      <td>419378.782609</td>\n",
       "    </tr>\n",
       "    <tr>\n",
       "      <th>9</th>\n",
       "      <td>856682.181818</td>\n",
       "      <td>430036.545455</td>\n",
       "    </tr>\n",
       "    <tr>\n",
       "      <th>10</th>\n",
       "      <td>921844.181818</td>\n",
       "      <td>493460.590909</td>\n",
       "    </tr>\n",
       "    <tr>\n",
       "      <th>11</th>\n",
       "      <td>900505.636364</td>\n",
       "      <td>431209.545455</td>\n",
       "    </tr>\n",
       "    <tr>\n",
       "      <th>12</th>\n",
       "      <td>915873.500000</td>\n",
       "      <td>480785.045455</td>\n",
       "    </tr>\n",
       "  </tbody>\n",
       "</table>\n",
       "</div>"
      ],
      "text/plain": [
       "            Domestic  International\n",
       "Month                              \n",
       "1      869819.260870  562410.695652\n",
       "2      817349.391304  450702.391304\n",
       "3      913955.869565  421561.478261\n",
       "4      880096.130435  412033.217391\n",
       "5      846698.782609  364496.521739\n",
       "6      812377.565217  372869.782609\n",
       "7      885586.347826  496610.434783\n",
       "8      867566.608696  419378.782609\n",
       "9      856682.181818  430036.545455\n",
       "10     921844.181818  493460.590909\n",
       "11     900505.636364  431209.545455\n",
       "12     915873.500000  480785.045455"
      ]
     },
     "execution_count": 106,
     "metadata": {},
     "output_type": "execute_result"
    }
   ],
   "source": [
    "compare_dom_int_syd=pd.DataFrame({'Domestic':syd_dmon_tot,\n",
    "                                 'International':syd_imon_tot})\n",
    "compare_dom_int_syd"
   ]
  },
  {
   "cell_type": "code",
   "execution_count": 107,
   "id": "ac5ebeb3",
   "metadata": {},
   "outputs": [
    {
     "data": {
      "image/png": "[encoded data removed]",
      "text/plain": [
       "<Figure size 900x500 with 1 Axes>"
      ]
     },
     "metadata": {},
     "output_type": "display_data"
    }
   ],
   "source": [
    "fig5=compare_dom_int_syd.plot(kind='bar',color=['red','blue'],figsize=(9,5),title='Sydney')\n",
    "fig5.set_xlabel('Month')\n",
    "fig5.set_ylabel('Total Number of Passengers')\n",
    "plt.show()"
   ]
  },
  {
   "cell_type": "code",
   "execution_count": 108,
   "id": "46b93dfa",
   "metadata": {},
   "outputs": [
    {
     "data": {
      "text/plain": [
       "Domestic         921844.181818\n",
       "International    562410.695652\n",
       "dtype: float64"
      ]
     },
     "execution_count": 108,
     "metadata": {},
     "output_type": "execute_result"
    }
   ],
   "source": [
    "max_syd=compare_dom_int_syd[['Domestic','International']].max()\n",
    "max_syd"
   ]
  },
  {
   "cell_type": "code",
   "execution_count": 109,
   "id": "eca11578",
   "metadata": {},
   "outputs": [],
   "source": [
    "url = \"http://api.openweathermap.org/data/2.5/weather?\"\n",
    "units = \"metric\"\n",
    "query_url = f\"{url}appid={weather_api_key}&units={units}&q=\"\n"
   ]
  },
  {
   "cell_type": "code",
   "execution_count": 110,
   "id": "ffd6b2dd",
   "metadata": {},
   "outputs": [],
   "source": [
    "cities = ['Melbourne, AU','Cairns','Darwin']\n",
    "lat=[]\n",
    "temp=[]\n",
    "for city in cities:\n",
    "    response = requests.get(query_url + city).json()\n",
    "    lat.append(response['coord']['lat'])\n",
    "    temp.append(response['main']['temp'])\n"
   ]
  },
  {
   "cell_type": "code",
   "execution_count": 111,
   "id": "47476b61",
   "metadata": {},
   "outputs": [
    {
     "name": "stdout",
     "output_type": "stream",
     "text": [
      "{'city': ['Melbourne', 'Cairns', 'Darwin'], 'lat': [-37.814, -16.9167, -12.4611], 'temp': [10.26, 22.35, 27.99]}\n"
     ]
    }
   ],
   "source": [
    "cit_weather= {\n",
    "    'city': ['Melbourne','Cairns','Darwin'],\n",
    "    'lat': lat,\n",
    "    'temp': temp\n",
    "}\n",
    "print(cit_weather)"
   ]
  },
  {
   "cell_type": "code",
   "execution_count": 112,
   "id": "07398dfc",
   "metadata": {},
   "outputs": [
    {
     "data": {
      "text/html": [
       "<div>\n",
       "<style scoped>\n",
       "    .dataframe tbody tr th:only-of-type {\n",
       "        vertical-align: middle;\n",
       "    }\n",
       "\n",
       "    .dataframe tbody tr th {\n",
       "        vertical-align: top;\n",
       "    }\n",
       "\n",
       "    .dataframe thead th {\n",
       "        text-align: right;\n",
       "    }\n",
       "</style>\n",
       "<table border=\"1\" class=\"dataframe\">\n",
       "  <thead>\n",
       "    <tr style=\"text-align: right;\">\n",
       "      <th></th>\n",
       "      <th>city</th>\n",
       "      <th>lat</th>\n",
       "      <th>temp</th>\n",
       "    </tr>\n",
       "  </thead>\n",
       "  <tbody>\n",
       "    <tr>\n",
       "      <th>0</th>\n",
       "      <td>Melbourne</td>\n",
       "      <td>-37.8140</td>\n",
       "      <td>10.26</td>\n",
       "    </tr>\n",
       "    <tr>\n",
       "      <th>1</th>\n",
       "      <td>Cairns</td>\n",
       "      <td>-16.9167</td>\n",
       "      <td>22.35</td>\n",
       "    </tr>\n",
       "    <tr>\n",
       "      <th>2</th>\n",
       "      <td>Darwin</td>\n",
       "      <td>-12.4611</td>\n",
       "      <td>27.99</td>\n",
       "    </tr>\n",
       "  </tbody>\n",
       "</table>\n",
       "</div>"
      ],
      "text/plain": [
       "        city      lat   temp\n",
       "0  Melbourne -37.8140  10.26\n",
       "1     Cairns -16.9167  22.35\n",
       "2     Darwin -12.4611  27.99"
      ]
     },
     "execution_count": 112,
     "metadata": {},
     "output_type": "execute_result"
    }
   ],
   "source": [
    "cit_weather_data=pd.DataFrame(cit_weather)\n",
    "cit_weather_data"
   ]
  },
  {
   "cell_type": "code",
   "execution_count": null,
   "id": "0a48c181",
   "metadata": {},
   "outputs": [],
   "source": []
  }
 ],
 "metadata": {
  "kernelspec": {
   "display_name": "Python 3 (ipykernel)",
   "language": "python",
   "name": "python3"
  },
  "language_info": {
   "codemirror_mode": {
    "name": "ipython",
    "version": 3
   },
   "file_extension": ".py",
   "mimetype": "text/x-python",
   "name": "python",
   "nbconvert_exporter": "python",
   "pygments_lexer": "ipython3",
   "version": "3.10.9"
  }
 },
 "nbformat": 4,
 "nbformat_minor": 5
}
